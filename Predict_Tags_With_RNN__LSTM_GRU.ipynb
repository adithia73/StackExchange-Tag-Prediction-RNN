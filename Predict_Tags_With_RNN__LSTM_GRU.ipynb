{
  "nbformat": 4,
  "nbformat_minor": 0,
  "metadata": {
    "colab": {
      "provenance": [],
      "gpuType": "T4"
    },
    "kernelspec": {
      "name": "python3",
      "display_name": "Python 3"
    },
    "language_info": {
      "name": "python"
    },
    "accelerator": "GPU"
  },
  "cells": [
    {
      "cell_type": "markdown",
      "metadata": {
        "id": "HfaOlnHpy-Va"
      },
      "source": [
        "1. Load Data and Import Libraries\n",
        "2. Text Cleaning\n",
        "3. Merge Tags with Questions\n",
        "4. Dataset Preparation\n",
        "5. Text Representation\n",
        "6. Model Building\n",
        "    1. Define Model Architecture\n",
        "    2. Train the Model\n",
        "7. Model Predictions\n",
        "8. Model Evaluation\n"
      ]
    },
    {
      "cell_type": "markdown",
      "source": [
        "# Load Data and Import Libraries"
      ],
      "metadata": {
        "id": "Xi1g3cRzyQj0"
      }
    },
    {
      "cell_type": "code",
      "source": [
        "import re\n",
        "\n",
        "# for reading data\n",
        "import pandas as pd\n",
        "\n",
        "# for handling html data\n",
        "from bs4 import BeautifulSoup\n",
        "\n",
        "# for visualization\n",
        "import matplotlib.pyplot as plt\n",
        "\n",
        "pd.set_option('display.max_colwidth', 200)"
      ],
      "metadata": {
        "id": "dIt8K4NbxzF4"
      },
      "execution_count": 66,
      "outputs": []
    },
    {
      "cell_type": "code",
      "source": [
        "# load the stackoverflow questions dataset\n",
        "questions_df = pd.read_csv('Questions.csv',encoding='latin-1')\n",
        "\n",
        "# load the tags dataset\n",
        "tags_df = pd.read_csv('Tags.csv')"
      ],
      "metadata": {
        "id": "Smz0KgveysRK"
      },
      "execution_count": 67,
      "outputs": []
    },
    {
      "cell_type": "code",
      "source": [
        "#print first 5 rows\n",
        "questions_df.head()"
      ],
      "metadata": {
        "colab": {
          "base_uri": "https://localhost:8080/",
          "height": 293
        },
        "id": "QT39eYnu0Vij",
        "outputId": "cf1aa0cf-890c-4fa7-ca8e-59db113dd222"
      },
      "execution_count": 68,
      "outputs": [
        {
          "output_type": "execute_result",
          "data": {
            "text/plain": [
              "   Id  OwnerUserId          CreationDate  Score  \\\n",
              "0   6          5.0  2010-07-19T19:14:44Z    272   \n",
              "1  21         59.0  2010-07-19T19:24:36Z      4   \n",
              "2  22         66.0  2010-07-19T19:25:39Z    208   \n",
              "3  31         13.0  2010-07-19T19:28:44Z    138   \n",
              "4  36          8.0  2010-07-19T19:31:47Z     58   \n",
              "\n",
              "                                                                Title  \\\n",
              "0                  The Two Cultures: statistics vs. machine learning?   \n",
              "1                                      Forecasting demographic census   \n",
              "2                 Bayesian and frequentist reasoning in plain English   \n",
              "3  What is the meaning of p values and t values in statistical tests?   \n",
              "4          Examples for teaching: Correlation does not mean causation   \n",
              "\n",
              "                                                                                                                                                                                                      Body  \n",
              "0  <p>Last year, I read a blog post from <a href=\"http://anyall.org/\">Brendan O'Connor</a> entitled <a href=\"http://anyall.org/blog/2008/12/statistics-vs-machine-learning-fight/\">\"Statistics vs. Mach...  \n",
              "1  <p>What are some of the ways to forecast demographic census with some validation and calibration techniques?</p>\\n\\n<p>Some of the concerns:</p>\\n\\n<ul>\\n<li>Census blocks vary in sizes as rural\\n...  \n",
              "2                                                                               <p>How would you describe in plain English the characteristics that distinguish Bayesian from Frequentist reasoning?</p>\\n  \n",
              "3  <p>After taking a statistics course and then trying to help fellow students, I noticed one subject that inspires much head-desk banging is interpreting the results of statistical hypothesis tests....  \n",
              "4  <p>There is an old saying: \"Correlation does not mean causation\". When I teach, I tend to use the following standard examples to illustrate this point:</p>\\n\\n<ol>\\n<li>number of storks and birth ...  "
            ],
            "text/html": [
              "\n",
              "  <div id=\"df-27aabc1c-9b17-47b0-ba77-bbbc6b7467a4\" class=\"colab-df-container\">\n",
              "    <div>\n",
              "<style scoped>\n",
              "    .dataframe tbody tr th:only-of-type {\n",
              "        vertical-align: middle;\n",
              "    }\n",
              "\n",
              "    .dataframe tbody tr th {\n",
              "        vertical-align: top;\n",
              "    }\n",
              "\n",
              "    .dataframe thead th {\n",
              "        text-align: right;\n",
              "    }\n",
              "</style>\n",
              "<table border=\"1\" class=\"dataframe\">\n",
              "  <thead>\n",
              "    <tr style=\"text-align: right;\">\n",
              "      <th></th>\n",
              "      <th>Id</th>\n",
              "      <th>OwnerUserId</th>\n",
              "      <th>CreationDate</th>\n",
              "      <th>Score</th>\n",
              "      <th>Title</th>\n",
              "      <th>Body</th>\n",
              "    </tr>\n",
              "  </thead>\n",
              "  <tbody>\n",
              "    <tr>\n",
              "      <th>0</th>\n",
              "      <td>6</td>\n",
              "      <td>5.0</td>\n",
              "      <td>2010-07-19T19:14:44Z</td>\n",
              "      <td>272</td>\n",
              "      <td>The Two Cultures: statistics vs. machine learning?</td>\n",
              "      <td>&lt;p&gt;Last year, I read a blog post from &lt;a href=\"http://anyall.org/\"&gt;Brendan O'Connor&lt;/a&gt; entitled &lt;a href=\"http://anyall.org/blog/2008/12/statistics-vs-machine-learning-fight/\"&gt;\"Statistics vs. Mach...</td>\n",
              "    </tr>\n",
              "    <tr>\n",
              "      <th>1</th>\n",
              "      <td>21</td>\n",
              "      <td>59.0</td>\n",
              "      <td>2010-07-19T19:24:36Z</td>\n",
              "      <td>4</td>\n",
              "      <td>Forecasting demographic census</td>\n",
              "      <td>&lt;p&gt;What are some of the ways to forecast demographic census with some validation and calibration techniques?&lt;/p&gt;\\n\\n&lt;p&gt;Some of the concerns:&lt;/p&gt;\\n\\n&lt;ul&gt;\\n&lt;li&gt;Census blocks vary in sizes as rural\\n...</td>\n",
              "    </tr>\n",
              "    <tr>\n",
              "      <th>2</th>\n",
              "      <td>22</td>\n",
              "      <td>66.0</td>\n",
              "      <td>2010-07-19T19:25:39Z</td>\n",
              "      <td>208</td>\n",
              "      <td>Bayesian and frequentist reasoning in plain English</td>\n",
              "      <td>&lt;p&gt;How would you describe in plain English the characteristics that distinguish Bayesian from Frequentist reasoning?&lt;/p&gt;\\n</td>\n",
              "    </tr>\n",
              "    <tr>\n",
              "      <th>3</th>\n",
              "      <td>31</td>\n",
              "      <td>13.0</td>\n",
              "      <td>2010-07-19T19:28:44Z</td>\n",
              "      <td>138</td>\n",
              "      <td>What is the meaning of p values and t values in statistical tests?</td>\n",
              "      <td>&lt;p&gt;After taking a statistics course and then trying to help fellow students, I noticed one subject that inspires much head-desk banging is interpreting the results of statistical hypothesis tests....</td>\n",
              "    </tr>\n",
              "    <tr>\n",
              "      <th>4</th>\n",
              "      <td>36</td>\n",
              "      <td>8.0</td>\n",
              "      <td>2010-07-19T19:31:47Z</td>\n",
              "      <td>58</td>\n",
              "      <td>Examples for teaching: Correlation does not mean causation</td>\n",
              "      <td>&lt;p&gt;There is an old saying: \"Correlation does not mean causation\". When I teach, I tend to use the following standard examples to illustrate this point:&lt;/p&gt;\\n\\n&lt;ol&gt;\\n&lt;li&gt;number of storks and birth ...</td>\n",
              "    </tr>\n",
              "  </tbody>\n",
              "</table>\n",
              "</div>\n",
              "    <div class=\"colab-df-buttons\">\n",
              "\n",
              "  <div class=\"colab-df-container\">\n",
              "    <button class=\"colab-df-convert\" onclick=\"convertToInteractive('df-27aabc1c-9b17-47b0-ba77-bbbc6b7467a4')\"\n",
              "            title=\"Convert this dataframe to an interactive table.\"\n",
              "            style=\"display:none;\">\n",
              "\n",
              "  <svg xmlns=\"http://www.w3.org/2000/svg\" height=\"24px\" viewBox=\"0 -960 960 960\">\n",
              "    <path d=\"M120-120v-720h720v720H120Zm60-500h600v-160H180v160Zm220 220h160v-160H400v160Zm0 220h160v-160H400v160ZM180-400h160v-160H180v160Zm440 0h160v-160H620v160ZM180-180h160v-160H180v160Zm440 0h160v-160H620v160Z\"/>\n",
              "  </svg>\n",
              "    </button>\n",
              "\n",
              "  <style>\n",
              "    .colab-df-container {\n",
              "      display:flex;\n",
              "      gap: 12px;\n",
              "    }\n",
              "\n",
              "    .colab-df-convert {\n",
              "      background-color: #E8F0FE;\n",
              "      border: none;\n",
              "      border-radius: 50%;\n",
              "      cursor: pointer;\n",
              "      display: none;\n",
              "      fill: #1967D2;\n",
              "      height: 32px;\n",
              "      padding: 0 0 0 0;\n",
              "      width: 32px;\n",
              "    }\n",
              "\n",
              "    .colab-df-convert:hover {\n",
              "      background-color: #E2EBFA;\n",
              "      box-shadow: 0px 1px 2px rgba(60, 64, 67, 0.3), 0px 1px 3px 1px rgba(60, 64, 67, 0.15);\n",
              "      fill: #174EA6;\n",
              "    }\n",
              "\n",
              "    .colab-df-buttons div {\n",
              "      margin-bottom: 4px;\n",
              "    }\n",
              "\n",
              "    [theme=dark] .colab-df-convert {\n",
              "      background-color: #3B4455;\n",
              "      fill: #D2E3FC;\n",
              "    }\n",
              "\n",
              "    [theme=dark] .colab-df-convert:hover {\n",
              "      background-color: #434B5C;\n",
              "      box-shadow: 0px 1px 3px 1px rgba(0, 0, 0, 0.15);\n",
              "      filter: drop-shadow(0px 1px 2px rgba(0, 0, 0, 0.3));\n",
              "      fill: #FFFFFF;\n",
              "    }\n",
              "  </style>\n",
              "\n",
              "    <script>\n",
              "      const buttonEl =\n",
              "        document.querySelector('#df-27aabc1c-9b17-47b0-ba77-bbbc6b7467a4 button.colab-df-convert');\n",
              "      buttonEl.style.display =\n",
              "        google.colab.kernel.accessAllowed ? 'block' : 'none';\n",
              "\n",
              "      async function convertToInteractive(key) {\n",
              "        const element = document.querySelector('#df-27aabc1c-9b17-47b0-ba77-bbbc6b7467a4');\n",
              "        const dataTable =\n",
              "          await google.colab.kernel.invokeFunction('convertToInteractive',\n",
              "                                                    [key], {});\n",
              "        if (!dataTable) return;\n",
              "\n",
              "        const docLinkHtml = 'Like what you see? Visit the ' +\n",
              "          '<a target=\"_blank\" href=https://colab.research.google.com/notebooks/data_table.ipynb>data table notebook</a>'\n",
              "          + ' to learn more about interactive tables.';\n",
              "        element.innerHTML = '';\n",
              "        dataTable['output_type'] = 'display_data';\n",
              "        await google.colab.output.renderOutput(dataTable, element);\n",
              "        const docLink = document.createElement('div');\n",
              "        docLink.innerHTML = docLinkHtml;\n",
              "        element.appendChild(docLink);\n",
              "      }\n",
              "    </script>\n",
              "  </div>\n",
              "\n",
              "\n",
              "    <div id=\"df-d65d492f-7a7e-4dc3-9560-262db0e05f0a\">\n",
              "      <button class=\"colab-df-quickchart\" onclick=\"quickchart('df-d65d492f-7a7e-4dc3-9560-262db0e05f0a')\"\n",
              "                title=\"Suggest charts\"\n",
              "                style=\"display:none;\">\n",
              "\n",
              "<svg xmlns=\"http://www.w3.org/2000/svg\" height=\"24px\"viewBox=\"0 0 24 24\"\n",
              "     width=\"24px\">\n",
              "    <g>\n",
              "        <path d=\"M19 3H5c-1.1 0-2 .9-2 2v14c0 1.1.9 2 2 2h14c1.1 0 2-.9 2-2V5c0-1.1-.9-2-2-2zM9 17H7v-7h2v7zm4 0h-2V7h2v10zm4 0h-2v-4h2v4z\"/>\n",
              "    </g>\n",
              "</svg>\n",
              "      </button>\n",
              "\n",
              "<style>\n",
              "  .colab-df-quickchart {\n",
              "      --bg-color: #E8F0FE;\n",
              "      --fill-color: #1967D2;\n",
              "      --hover-bg-color: #E2EBFA;\n",
              "      --hover-fill-color: #174EA6;\n",
              "      --disabled-fill-color: #AAA;\n",
              "      --disabled-bg-color: #DDD;\n",
              "  }\n",
              "\n",
              "  [theme=dark] .colab-df-quickchart {\n",
              "      --bg-color: #3B4455;\n",
              "      --fill-color: #D2E3FC;\n",
              "      --hover-bg-color: #434B5C;\n",
              "      --hover-fill-color: #FFFFFF;\n",
              "      --disabled-bg-color: #3B4455;\n",
              "      --disabled-fill-color: #666;\n",
              "  }\n",
              "\n",
              "  .colab-df-quickchart {\n",
              "    background-color: var(--bg-color);\n",
              "    border: none;\n",
              "    border-radius: 50%;\n",
              "    cursor: pointer;\n",
              "    display: none;\n",
              "    fill: var(--fill-color);\n",
              "    height: 32px;\n",
              "    padding: 0;\n",
              "    width: 32px;\n",
              "  }\n",
              "\n",
              "  .colab-df-quickchart:hover {\n",
              "    background-color: var(--hover-bg-color);\n",
              "    box-shadow: 0 1px 2px rgba(60, 64, 67, 0.3), 0 1px 3px 1px rgba(60, 64, 67, 0.15);\n",
              "    fill: var(--button-hover-fill-color);\n",
              "  }\n",
              "\n",
              "  .colab-df-quickchart-complete:disabled,\n",
              "  .colab-df-quickchart-complete:disabled:hover {\n",
              "    background-color: var(--disabled-bg-color);\n",
              "    fill: var(--disabled-fill-color);\n",
              "    box-shadow: none;\n",
              "  }\n",
              "\n",
              "  .colab-df-spinner {\n",
              "    border: 2px solid var(--fill-color);\n",
              "    border-color: transparent;\n",
              "    border-bottom-color: var(--fill-color);\n",
              "    animation:\n",
              "      spin 1s steps(1) infinite;\n",
              "  }\n",
              "\n",
              "  @keyframes spin {\n",
              "    0% {\n",
              "      border-color: transparent;\n",
              "      border-bottom-color: var(--fill-color);\n",
              "      border-left-color: var(--fill-color);\n",
              "    }\n",
              "    20% {\n",
              "      border-color: transparent;\n",
              "      border-left-color: var(--fill-color);\n",
              "      border-top-color: var(--fill-color);\n",
              "    }\n",
              "    30% {\n",
              "      border-color: transparent;\n",
              "      border-left-color: var(--fill-color);\n",
              "      border-top-color: var(--fill-color);\n",
              "      border-right-color: var(--fill-color);\n",
              "    }\n",
              "    40% {\n",
              "      border-color: transparent;\n",
              "      border-right-color: var(--fill-color);\n",
              "      border-top-color: var(--fill-color);\n",
              "    }\n",
              "    60% {\n",
              "      border-color: transparent;\n",
              "      border-right-color: var(--fill-color);\n",
              "    }\n",
              "    80% {\n",
              "      border-color: transparent;\n",
              "      border-right-color: var(--fill-color);\n",
              "      border-bottom-color: var(--fill-color);\n",
              "    }\n",
              "    90% {\n",
              "      border-color: transparent;\n",
              "      border-bottom-color: var(--fill-color);\n",
              "    }\n",
              "  }\n",
              "</style>\n",
              "\n",
              "      <script>\n",
              "        async function quickchart(key) {\n",
              "          const quickchartButtonEl =\n",
              "            document.querySelector('#' + key + ' button');\n",
              "          quickchartButtonEl.disabled = true;  // To prevent multiple clicks.\n",
              "          quickchartButtonEl.classList.add('colab-df-spinner');\n",
              "          try {\n",
              "            const charts = await google.colab.kernel.invokeFunction(\n",
              "                'suggestCharts', [key], {});\n",
              "          } catch (error) {\n",
              "            console.error('Error during call to suggestCharts:', error);\n",
              "          }\n",
              "          quickchartButtonEl.classList.remove('colab-df-spinner');\n",
              "          quickchartButtonEl.classList.add('colab-df-quickchart-complete');\n",
              "        }\n",
              "        (() => {\n",
              "          let quickchartButtonEl =\n",
              "            document.querySelector('#df-d65d492f-7a7e-4dc3-9560-262db0e05f0a button');\n",
              "          quickchartButtonEl.style.display =\n",
              "            google.colab.kernel.accessAllowed ? 'block' : 'none';\n",
              "        })();\n",
              "      </script>\n",
              "    </div>\n",
              "\n",
              "    </div>\n",
              "  </div>\n"
            ],
            "application/vnd.google.colaboratory.intrinsic+json": {
              "type": "dataframe",
              "variable_name": "questions_df",
              "summary": "{\n  \"name\": \"questions_df\",\n  \"rows\": 85085,\n  \"fields\": [\n    {\n      \"column\": \"Id\",\n      \"properties\": {\n        \"dtype\": \"number\",\n        \"std\": 70656,\n        \"min\": 1,\n        \"max\": 241481,\n        \"num_unique_values\": 85085,\n        \"samples\": [\n          182860,\n          113691,\n          11232\n        ],\n        \"semantic_type\": \"\",\n        \"description\": \"\"\n      }\n    },\n    {\n      \"column\": \"OwnerUserId\",\n      \"properties\": {\n        \"dtype\": \"number\",\n        \"std\": 38425.574041037355,\n        \"min\": 5.0,\n        \"max\": 135593.0,\n        \"num_unique_values\": 38738,\n        \"samples\": [\n          108040.0,\n          48591.0,\n          31240.0\n        ],\n        \"semantic_type\": \"\",\n        \"description\": \"\"\n      }\n    },\n    {\n      \"column\": \"CreationDate\",\n      \"properties\": {\n        \"dtype\": \"object\",\n        \"num_unique_values\": 85058,\n        \"samples\": [\n          \"2016-10-04T16:18:43Z\",\n          \"2013-12-08T19:46:47Z\",\n          \"2016-08-29T00:43:05Z\"\n        ],\n        \"semantic_type\": \"\",\n        \"description\": \"\"\n      }\n    },\n    {\n      \"column\": \"Score\",\n      \"properties\": {\n        \"dtype\": \"number\",\n        \"std\": 6,\n        \"min\": -13,\n        \"max\": 435,\n        \"num_unique_values\": 141,\n        \"samples\": [\n          116,\n          118,\n          13\n        ],\n        \"semantic_type\": \"\",\n        \"description\": \"\"\n      }\n    },\n    {\n      \"column\": \"Title\",\n      \"properties\": {\n        \"dtype\": \"string\",\n        \"num_unique_values\": 85047,\n        \"samples\": [\n          \"Prediction using epsilon-Support Vector Regression\",\n          \"R: product of dummy variables when using factor in a linear regression\",\n          \"A question on Monte Carlo\"\n        ],\n        \"semantic_type\": \"\",\n        \"description\": \"\"\n      }\n    },\n    {\n      \"column\": \"Body\",\n      \"properties\": {\n        \"dtype\": \"string\",\n        \"num_unique_values\": 85076,\n        \"samples\": [\n          \"<p>I've read a paper where they compute an $F$-test for the hypothesis that the autocorrelations of two groups are equal. Specifically, they estimate the autocorrelations of two time series $x_t$ and $y_t$ via OLS:\\n$$y_t = a_1 + b_1y_{t-1} + e_t$$\\n$$x_t = a_2 + b_2x_{t-1} + e_t$$</p>\\n\\n<p>Now they test the null hypothesis that $b_1 = b_2$ with an $F$-test. My question is, how can I do that, and which particular test statistic do I have to use?</p>\\n\\n<p>Best regards,<br>\\nChristian</p>\\n\",\n          \"<p>I have been attempting to do an ARIMA modelling in SAS. The series is not stationary but when I estimate the ACF and PACF p-values I don't get appropriate answers to find out if my model is adequate or not.Can anyone help me as may be I have been choosing the wrong p and q values. year age-group members.For stationarity I have used Sas which shows me that series is stationary with constant mean and variance.<img src=\\\"http://i.stack.imgur.com/GwpIk.png\\\" alt=\\\" model showing Stationary series for members\\\"></p>\\n\\n<p>year    age-group   members</p>\\n\\n<p>1997    16to21      21.1</p>\\n\\n<p>1997    22to29      47.5</p>\\n\\n<p>1997    30to39      61.7</p>\\n\\n<p>1997    40to49      65.1</p>\\n\\n<p>1997    50to54      64.1</p>\\n\\n<p>1997    55to59      58.7</p>\\n\\n<p>1997    60to64      48.2</p>\\n\\n<p>1997    65ANDOVER   12.2</p>\\n\\n<p>1998    16to21      18.6</p>\\n\\n<p>1998    22to29      46.3</p>\\n\\n<p>1998    30to39      61.1</p>\\n\\n<p>1998    40to49      65.4</p>\\n\\n<p>1998    50to54      64</p>\\n\\n<p>1998    55to59      59</p>\\n\\n<p>1998    60to64      45.4</p>\\n\\n<p>1998    65ANDOVER   12.5</p>\\n\\n<p>1999    16to21      19.6</p>\\n\\n<p>1999    22to29      47.3</p>\\n\\n<p>1999    30to39      61.6</p>\\n\\n<p>1999    40to49      65.8</p>\\n\\n<p>1999    50to54      64.8</p>\\n\\n<p>1999    55to59      58.5</p>\\n\\n<p>1999    60to64      45.2</p>\\n\\n<p>1999    65ANDOVER   10.1</p>\\n\\n<p>2000    16to21      20.9</p>\\n\\n<p>2000    22to29      47.6</p>\\n\\n<p>2000    30to39      61.5</p>\\n\\n<p>2000    40to49      65.8</p>\\n\\n<p>2000    50to54      64.6</p>\\n\\n<p>2000    55to59      58.8</p>\\n\\n<p>2000    60to64      44</p>\\n\\n<p>2000    65ANDOVER   10.7</p>\\n\\n<p>2001    16to21      20.7</p>\\n\\n<p>2001    22to29      47.1</p>\\n\\n<p>2001    30to39      61.7</p>\\n\\n<p>2001    40to49      65.7</p>\\n\\n<p>2001    50to54      64.5</p>\\n\\n<p>2001    55to59      59.2</p>\\n\\n<p>2001    60to64      42.6</p>\\n\\n<p>2001    65ANDOVER   11.7</p>\\n\\n<p>2002    16to21      19.4</p>\\n\\n<p>2002    22to29      49.2</p>\\n\\n<p>2002    30to39      62.8</p>\\n\\n<p>2002    40to49      67.1</p>\\n\\n<p>2002    50to54      65.8</p>\\n\\n<p>2002    55to59      61.2 </p>\\n\\n<p>2002    60to64      45.2</p>\\n\\n<p>2002    65ANDOVER   10.1</p>\\n\\n<p>2003    16to21      17.3</p>\\n\\n<p>2003    22to29      45.2</p>\\n\\n<p>2003    30to39      59.7</p>\\n\\n<p>2003    40to49      65.1</p>\\n\\n<p>2003    50to54      64.9</p>\\n\\n<p>2003    55to59      59.1</p>\\n\\n<p>2003    60to64      44.5</p>\\n\\n<p>2003    65ANDOVER   10.7</p>\\n\\n<p>2004    16to21      14.1</p>\\n\\n<p>2004    22to29      44</p>\\n\\n<p>2004    30to39      60.5</p>\\n\\n<p>2004    40to49      66.2</p>\\n\\n<p>2004    50to54      66.3</p>\\n\\n<p>2004    55to59      61.4</p>\\n\\n<p>2004    60to64      45.9</p>\\n\\n<p>2004    65ANDOVER   12.1</p>\\n\\n<p>2005    16to21      11.4</p>\\n\\n<p>2005    22to29      38.7</p>\\n\\n<p>2005    30to39      56.1</p>\\n\\n<p>2005    40to49      62.3</p>\\n\\n<p>2005    50to54      63.2</p>\\n\\n<p>2005    55to59      58</p>\\n\\n<p>2005    60to64      42.7</p>\\n\\n<p>2005    65ANDOVER   6.8</p>\\n\\n<p>2006    16to21      11.7</p>\\n\\n<p>2006    22to29      38.1</p>\\n\\n<p>2006    30to39      56</p>\\n\\n<p>2006    40to49      62.1</p>\\n\\n<p>2006    50to54      62.8</p>\\n\\n<p>2006    55to59      58.8</p>\\n\\n<p>2006    60to64      44.7</p>\\n\\n<p>2006    65ANDOVER   10</p>\\n\\n<p>2007    16to21      11.4</p>\\n\\n<p>2007    22to29      36.9</p>\\n\\n<p>2007    30to39      54.8</p>\\n\\n<p>2007    40to49      60.7</p>\\n\\n<p>2007    50to54      62.3</p>\\n\\n<p>2007    55to59      58.7</p>\\n\\n<p>2007    60to64      45.1</p>\\n\\n<p>2007    65ANDOVER   10.9\\n2008    16to21      9.2</p>\\n\\n<p>2008    22to29      34.8</p>\\n\\n<p>2008    30to39      53.6</p>\\n\\n<p>2008    40to49      60</p>\\n\\n<p>2008    50to54      62.9</p>\\n\\n<p>2008    55to59      59</p>\\n\\n<p>2008    60to64      45.4</p>\\n\\n<p>2008    65ANDOVER   12.3</p>\\n\\n<p>2009    16to21      9.6</p>\\n\\n<p>2009    22to29      35.4</p>\\n\\n<p>2009    30to39      53.2</p>\\n\\n<p>2009    40to49      60.3</p>\\n\\n<p>2009    50to54      62.4</p>\\n\\n<p>2009    55to59      59.7</p>\\n\\n<p>2009    60to64      46.3</p>\\n\\n<p>2009    65ANDOVER   12.5</p>\\n\\n<p>2010    16to21      9.1</p>\\n\\n<p>2010    22to29      34.1</p>\\n\\n<p>2010    30to39      52.6</p>\\n\\n<p>2010    40to49      59.6</p>\\n\\n<p>2010    50to54      62</p>\\n\\n<p>2010    55to59      59.2</p>\\n\\n<p>2010    60to64      46.3</p>\\n\\n<p>2010    65ANDOVER   13.9</p>\\n\\n<p>2011    16to21      7.7</p>\\n\\n<p>2011    22to29      31.8</p>\\n\\n<p>2011    30to39      50.7</p>\\n\\n<p>2011    40to49      57.9</p>\\n\\n<p>2011    50to54      60.1</p>\\n\\n<p>2011    55to59      57.3</p>\\n\\n<p>2011    60to64      45</p>\\n\\n<p>2011    65ANDOVER   14.6</p>\\n\\n<p>2012    16to21      6.5</p>\\n\\n<p>2012    22to29      30.2</p>\\n\\n<p>2012    30to39      49.1</p>\\n\\n<p>2012    40to49      56.1</p>\\n\\n<p>2012    50to54      58.2</p>\\n\\n<p>2012    55to59      55.5</p>\\n\\n<p>2012    60to64      43.9</p>\\n\\n<p>2012    65ANDOVER   14.8</p>\\n\",\n          \"<p>I'm trying to make my results more intuitive, and so I want to compare the predicted values at the interquartile range. I'm trying to figure out how to get the predicted value for a given variable, keeping everything else at the median.</p>\\n\\n<p>I've tried something like this:</p>\\n\\n<pre><code>x_1 &lt;- rnorm(20)\\nx_2 &lt;- rnorm(20)\\ny &lt;- x_1 + x_2 + rnorm(20)\\nz &lt;- data.frame(y,x_1,x_2)\\nfit &lt;- lm(y~x_1 + x_2,data = z)\\npredict(fit,newdata = data.frame(x_1=c(quantile(x_1)[2],quantile(x_1)[4]), x_2=median(x_2)))\\n</code></pre>\\n\\n<p>which works, but my actual model has 10+ variables, and this starts to get ugly really quickly, so I figure there must be a better way?</p>\\n\"\n        ],\n        \"semantic_type\": \"\",\n        \"description\": \"\"\n      }\n    }\n  ]\n}"
            }
          },
          "metadata": {},
          "execution_count": 68
        }
      ]
    },
    {
      "cell_type": "markdown",
      "source": [
        "# Text Cleaning"
      ],
      "metadata": {
        "id": "4Yn-Wb8C2pIN"
      }
    },
    {
      "cell_type": "code",
      "source": [
        "def cleaner(text):\n",
        "\n",
        "  # take off html tags\n",
        "  text = BeautifulSoup(text).get_text()\n",
        "\n",
        "  # fetch alphabetic characters\n",
        "  text = re.sub(\"[^a-zA-Z]\", \" \", text)\n",
        "\n",
        "  # convert text to lower case\n",
        "  text = text.lower()\n",
        "\n",
        "  # split text into tokens to remove whitespaces\n",
        "  tokens = text.split()\n",
        "\n",
        "  return \" \".join(tokens)"
      ],
      "metadata": {
        "id": "URau_oji2j0P"
      },
      "execution_count": 69,
      "outputs": []
    },
    {
      "cell_type": "code",
      "source": [
        "# call preprocessing function\n",
        "questions_df['cleaned_text'] = questions_df['Body'].apply(cleaner)"
      ],
      "metadata": {
        "id": "ru0CNWr521jn"
      },
      "execution_count": 70,
      "outputs": []
    },
    {
      "cell_type": "code",
      "source": [
        "questions_df['Body'][1]"
      ],
      "metadata": {
        "colab": {
          "base_uri": "https://localhost:8080/",
          "height": 105
        },
        "id": "ZRcmBi9k26R0",
        "outputId": "21d3d990-1e97-4185-85ab-6039c6eb409f"
      },
      "execution_count": 71,
      "outputs": [
        {
          "output_type": "execute_result",
          "data": {
            "text/plain": [
              "\"<p>What are some of the ways to forecast demographic census with some validation and calibration techniques?</p>\\n\\n<p>Some of the concerns:</p>\\n\\n<ul>\\n<li>Census blocks vary in sizes as rural\\nareas are a lot larger than condensed\\nurban areas. Is there a need to account for the area size difference?</li>\\n<li>if let's say I have census data\\ndating back to 4 - 5 census periods,\\nhow far can i forecast it into the\\nfuture?</li>\\n<li>if some of the census zone change\\nlightly in boundaries, how can i\\naccount for that change?</li>\\n<li>What are the methods to validate\\ncensus forecasts? for example, if i\\nhave data for existing 5 census\\nperiods, should I model the first 3\\nand test it on the latter two? or is\\nthere another way?</li>\\n<li>what's the state of practice in\\nforecasting census data, and what are\\nsome of the state of the art methods?</li>\\n</ul>\\n\""
            ],
            "application/vnd.google.colaboratory.intrinsic+json": {
              "type": "string"
            }
          },
          "metadata": {},
          "execution_count": 71
        }
      ]
    },
    {
      "cell_type": "code",
      "source": [
        "questions_df['cleaned_text'][1]"
      ],
      "metadata": {
        "colab": {
          "base_uri": "https://localhost:8080/",
          "height": 87
        },
        "id": "veodi1aD3EXx",
        "outputId": "ab31af93-8dfa-48c0-ed4d-4452fbf320ec"
      },
      "execution_count": 72,
      "outputs": [
        {
          "output_type": "execute_result",
          "data": {
            "text/plain": [
              "'what are some of the ways to forecast demographic census with some validation and calibration techniques some of the concerns census blocks vary in sizes as rural areas are a lot larger than condensed urban areas is there a need to account for the area size difference if let s say i have census data dating back to census periods how far can i forecast it into the future if some of the census zone change lightly in boundaries how can i account for that change what are the methods to validate census forecasts for example if i have data for existing census periods should i model the first and test it on the latter two or is there another way what s the state of practice in forecasting census data and what are some of the state of the art methods'"
            ],
            "application/vnd.google.colaboratory.intrinsic+json": {
              "type": "string"
            }
          },
          "metadata": {},
          "execution_count": 72
        }
      ]
    },
    {
      "cell_type": "markdown",
      "source": [
        "# Merge Tags with Questions"
      ],
      "metadata": {
        "id": "iXCjoNrV3UBQ"
      }
    },
    {
      "cell_type": "code",
      "source": [
        "tags_df.head()"
      ],
      "metadata": {
        "colab": {
          "base_uri": "https://localhost:8080/",
          "height": 206
        },
        "id": "5zyLFqc03Qb7",
        "outputId": "c89e62a2-20de-41d7-a921-ffe6126ad9d2"
      },
      "execution_count": 73,
      "outputs": [
        {
          "output_type": "execute_result",
          "data": {
            "text/plain": [
              "   Id            Tag\n",
              "0   1       bayesian\n",
              "1   1          prior\n",
              "2   1    elicitation\n",
              "3   2  distributions\n",
              "4   2      normality"
            ],
            "text/html": [
              "\n",
              "  <div id=\"df-57e5af4b-cf52-40dd-abdf-4f640e56776c\" class=\"colab-df-container\">\n",
              "    <div>\n",
              "<style scoped>\n",
              "    .dataframe tbody tr th:only-of-type {\n",
              "        vertical-align: middle;\n",
              "    }\n",
              "\n",
              "    .dataframe tbody tr th {\n",
              "        vertical-align: top;\n",
              "    }\n",
              "\n",
              "    .dataframe thead th {\n",
              "        text-align: right;\n",
              "    }\n",
              "</style>\n",
              "<table border=\"1\" class=\"dataframe\">\n",
              "  <thead>\n",
              "    <tr style=\"text-align: right;\">\n",
              "      <th></th>\n",
              "      <th>Id</th>\n",
              "      <th>Tag</th>\n",
              "    </tr>\n",
              "  </thead>\n",
              "  <tbody>\n",
              "    <tr>\n",
              "      <th>0</th>\n",
              "      <td>1</td>\n",
              "      <td>bayesian</td>\n",
              "    </tr>\n",
              "    <tr>\n",
              "      <th>1</th>\n",
              "      <td>1</td>\n",
              "      <td>prior</td>\n",
              "    </tr>\n",
              "    <tr>\n",
              "      <th>2</th>\n",
              "      <td>1</td>\n",
              "      <td>elicitation</td>\n",
              "    </tr>\n",
              "    <tr>\n",
              "      <th>3</th>\n",
              "      <td>2</td>\n",
              "      <td>distributions</td>\n",
              "    </tr>\n",
              "    <tr>\n",
              "      <th>4</th>\n",
              "      <td>2</td>\n",
              "      <td>normality</td>\n",
              "    </tr>\n",
              "  </tbody>\n",
              "</table>\n",
              "</div>\n",
              "    <div class=\"colab-df-buttons\">\n",
              "\n",
              "  <div class=\"colab-df-container\">\n",
              "    <button class=\"colab-df-convert\" onclick=\"convertToInteractive('df-57e5af4b-cf52-40dd-abdf-4f640e56776c')\"\n",
              "            title=\"Convert this dataframe to an interactive table.\"\n",
              "            style=\"display:none;\">\n",
              "\n",
              "  <svg xmlns=\"http://www.w3.org/2000/svg\" height=\"24px\" viewBox=\"0 -960 960 960\">\n",
              "    <path d=\"M120-120v-720h720v720H120Zm60-500h600v-160H180v160Zm220 220h160v-160H400v160Zm0 220h160v-160H400v160ZM180-400h160v-160H180v160Zm440 0h160v-160H620v160ZM180-180h160v-160H180v160Zm440 0h160v-160H620v160Z\"/>\n",
              "  </svg>\n",
              "    </button>\n",
              "\n",
              "  <style>\n",
              "    .colab-df-container {\n",
              "      display:flex;\n",
              "      gap: 12px;\n",
              "    }\n",
              "\n",
              "    .colab-df-convert {\n",
              "      background-color: #E8F0FE;\n",
              "      border: none;\n",
              "      border-radius: 50%;\n",
              "      cursor: pointer;\n",
              "      display: none;\n",
              "      fill: #1967D2;\n",
              "      height: 32px;\n",
              "      padding: 0 0 0 0;\n",
              "      width: 32px;\n",
              "    }\n",
              "\n",
              "    .colab-df-convert:hover {\n",
              "      background-color: #E2EBFA;\n",
              "      box-shadow: 0px 1px 2px rgba(60, 64, 67, 0.3), 0px 1px 3px 1px rgba(60, 64, 67, 0.15);\n",
              "      fill: #174EA6;\n",
              "    }\n",
              "\n",
              "    .colab-df-buttons div {\n",
              "      margin-bottom: 4px;\n",
              "    }\n",
              "\n",
              "    [theme=dark] .colab-df-convert {\n",
              "      background-color: #3B4455;\n",
              "      fill: #D2E3FC;\n",
              "    }\n",
              "\n",
              "    [theme=dark] .colab-df-convert:hover {\n",
              "      background-color: #434B5C;\n",
              "      box-shadow: 0px 1px 3px 1px rgba(0, 0, 0, 0.15);\n",
              "      filter: drop-shadow(0px 1px 2px rgba(0, 0, 0, 0.3));\n",
              "      fill: #FFFFFF;\n",
              "    }\n",
              "  </style>\n",
              "\n",
              "    <script>\n",
              "      const buttonEl =\n",
              "        document.querySelector('#df-57e5af4b-cf52-40dd-abdf-4f640e56776c button.colab-df-convert');\n",
              "      buttonEl.style.display =\n",
              "        google.colab.kernel.accessAllowed ? 'block' : 'none';\n",
              "\n",
              "      async function convertToInteractive(key) {\n",
              "        const element = document.querySelector('#df-57e5af4b-cf52-40dd-abdf-4f640e56776c');\n",
              "        const dataTable =\n",
              "          await google.colab.kernel.invokeFunction('convertToInteractive',\n",
              "                                                    [key], {});\n",
              "        if (!dataTable) return;\n",
              "\n",
              "        const docLinkHtml = 'Like what you see? Visit the ' +\n",
              "          '<a target=\"_blank\" href=https://colab.research.google.com/notebooks/data_table.ipynb>data table notebook</a>'\n",
              "          + ' to learn more about interactive tables.';\n",
              "        element.innerHTML = '';\n",
              "        dataTable['output_type'] = 'display_data';\n",
              "        await google.colab.output.renderOutput(dataTable, element);\n",
              "        const docLink = document.createElement('div');\n",
              "        docLink.innerHTML = docLinkHtml;\n",
              "        element.appendChild(docLink);\n",
              "      }\n",
              "    </script>\n",
              "  </div>\n",
              "\n",
              "\n",
              "    <div id=\"df-e558307f-931e-43f8-8f5e-66da2586d932\">\n",
              "      <button class=\"colab-df-quickchart\" onclick=\"quickchart('df-e558307f-931e-43f8-8f5e-66da2586d932')\"\n",
              "                title=\"Suggest charts\"\n",
              "                style=\"display:none;\">\n",
              "\n",
              "<svg xmlns=\"http://www.w3.org/2000/svg\" height=\"24px\"viewBox=\"0 0 24 24\"\n",
              "     width=\"24px\">\n",
              "    <g>\n",
              "        <path d=\"M19 3H5c-1.1 0-2 .9-2 2v14c0 1.1.9 2 2 2h14c1.1 0 2-.9 2-2V5c0-1.1-.9-2-2-2zM9 17H7v-7h2v7zm4 0h-2V7h2v10zm4 0h-2v-4h2v4z\"/>\n",
              "    </g>\n",
              "</svg>\n",
              "      </button>\n",
              "\n",
              "<style>\n",
              "  .colab-df-quickchart {\n",
              "      --bg-color: #E8F0FE;\n",
              "      --fill-color: #1967D2;\n",
              "      --hover-bg-color: #E2EBFA;\n",
              "      --hover-fill-color: #174EA6;\n",
              "      --disabled-fill-color: #AAA;\n",
              "      --disabled-bg-color: #DDD;\n",
              "  }\n",
              "\n",
              "  [theme=dark] .colab-df-quickchart {\n",
              "      --bg-color: #3B4455;\n",
              "      --fill-color: #D2E3FC;\n",
              "      --hover-bg-color: #434B5C;\n",
              "      --hover-fill-color: #FFFFFF;\n",
              "      --disabled-bg-color: #3B4455;\n",
              "      --disabled-fill-color: #666;\n",
              "  }\n",
              "\n",
              "  .colab-df-quickchart {\n",
              "    background-color: var(--bg-color);\n",
              "    border: none;\n",
              "    border-radius: 50%;\n",
              "    cursor: pointer;\n",
              "    display: none;\n",
              "    fill: var(--fill-color);\n",
              "    height: 32px;\n",
              "    padding: 0;\n",
              "    width: 32px;\n",
              "  }\n",
              "\n",
              "  .colab-df-quickchart:hover {\n",
              "    background-color: var(--hover-bg-color);\n",
              "    box-shadow: 0 1px 2px rgba(60, 64, 67, 0.3), 0 1px 3px 1px rgba(60, 64, 67, 0.15);\n",
              "    fill: var(--button-hover-fill-color);\n",
              "  }\n",
              "\n",
              "  .colab-df-quickchart-complete:disabled,\n",
              "  .colab-df-quickchart-complete:disabled:hover {\n",
              "    background-color: var(--disabled-bg-color);\n",
              "    fill: var(--disabled-fill-color);\n",
              "    box-shadow: none;\n",
              "  }\n",
              "\n",
              "  .colab-df-spinner {\n",
              "    border: 2px solid var(--fill-color);\n",
              "    border-color: transparent;\n",
              "    border-bottom-color: var(--fill-color);\n",
              "    animation:\n",
              "      spin 1s steps(1) infinite;\n",
              "  }\n",
              "\n",
              "  @keyframes spin {\n",
              "    0% {\n",
              "      border-color: transparent;\n",
              "      border-bottom-color: var(--fill-color);\n",
              "      border-left-color: var(--fill-color);\n",
              "    }\n",
              "    20% {\n",
              "      border-color: transparent;\n",
              "      border-left-color: var(--fill-color);\n",
              "      border-top-color: var(--fill-color);\n",
              "    }\n",
              "    30% {\n",
              "      border-color: transparent;\n",
              "      border-left-color: var(--fill-color);\n",
              "      border-top-color: var(--fill-color);\n",
              "      border-right-color: var(--fill-color);\n",
              "    }\n",
              "    40% {\n",
              "      border-color: transparent;\n",
              "      border-right-color: var(--fill-color);\n",
              "      border-top-color: var(--fill-color);\n",
              "    }\n",
              "    60% {\n",
              "      border-color: transparent;\n",
              "      border-right-color: var(--fill-color);\n",
              "    }\n",
              "    80% {\n",
              "      border-color: transparent;\n",
              "      border-right-color: var(--fill-color);\n",
              "      border-bottom-color: var(--fill-color);\n",
              "    }\n",
              "    90% {\n",
              "      border-color: transparent;\n",
              "      border-bottom-color: var(--fill-color);\n",
              "    }\n",
              "  }\n",
              "</style>\n",
              "\n",
              "      <script>\n",
              "        async function quickchart(key) {\n",
              "          const quickchartButtonEl =\n",
              "            document.querySelector('#' + key + ' button');\n",
              "          quickchartButtonEl.disabled = true;  // To prevent multiple clicks.\n",
              "          quickchartButtonEl.classList.add('colab-df-spinner');\n",
              "          try {\n",
              "            const charts = await google.colab.kernel.invokeFunction(\n",
              "                'suggestCharts', [key], {});\n",
              "          } catch (error) {\n",
              "            console.error('Error during call to suggestCharts:', error);\n",
              "          }\n",
              "          quickchartButtonEl.classList.remove('colab-df-spinner');\n",
              "          quickchartButtonEl.classList.add('colab-df-quickchart-complete');\n",
              "        }\n",
              "        (() => {\n",
              "          let quickchartButtonEl =\n",
              "            document.querySelector('#df-e558307f-931e-43f8-8f5e-66da2586d932 button');\n",
              "          quickchartButtonEl.style.display =\n",
              "            google.colab.kernel.accessAllowed ? 'block' : 'none';\n",
              "        })();\n",
              "      </script>\n",
              "    </div>\n",
              "\n",
              "    </div>\n",
              "  </div>\n"
            ],
            "application/vnd.google.colaboratory.intrinsic+json": {
              "type": "dataframe",
              "variable_name": "tags_df"
            }
          },
          "metadata": {},
          "execution_count": 73
        }
      ]
    },
    {
      "cell_type": "code",
      "source": [
        "# count of unique tags\n",
        "len(tags_df['Tag'].unique())"
      ],
      "metadata": {
        "colab": {
          "base_uri": "https://localhost:8080/"
        },
        "id": "oqyJklOP3XUT",
        "outputId": "b2be6ccb-fb6c-44d6-dd0f-79b8f90dd2fe"
      },
      "execution_count": 74,
      "outputs": [
        {
          "output_type": "execute_result",
          "data": {
            "text/plain": [
              "1315"
            ]
          },
          "metadata": {},
          "execution_count": 74
        }
      ]
    },
    {
      "cell_type": "code",
      "source": [
        "tags_df['Tag'].value_counts()"
      ],
      "metadata": {
        "colab": {
          "base_uri": "https://localhost:8080/",
          "height": 490
        },
        "id": "t4Wguar83hrc",
        "outputId": "7e334397-411d-4b81-82e6-6ce835ec8853"
      },
      "execution_count": 75,
      "outputs": [
        {
          "output_type": "execute_result",
          "data": {
            "text/plain": [
              "Tag\n",
              "r                            13236\n",
              "regression                   10959\n",
              "machine-learning              6089\n",
              "time-series                   5559\n",
              "probability                   4217\n",
              "                             ...  \n",
              "fmincon                          1\n",
              "shapley-value                    1\n",
              "american-community-survey        1\n",
              "propensity                       1\n",
              "corpus-linguistics               1\n",
              "Name: count, Length: 1315, dtype: int64"
            ],
            "text/html": [
              "<div>\n",
              "<style scoped>\n",
              "    .dataframe tbody tr th:only-of-type {\n",
              "        vertical-align: middle;\n",
              "    }\n",
              "\n",
              "    .dataframe tbody tr th {\n",
              "        vertical-align: top;\n",
              "    }\n",
              "\n",
              "    .dataframe thead th {\n",
              "        text-align: right;\n",
              "    }\n",
              "</style>\n",
              "<table border=\"1\" class=\"dataframe\">\n",
              "  <thead>\n",
              "    <tr style=\"text-align: right;\">\n",
              "      <th></th>\n",
              "      <th>count</th>\n",
              "    </tr>\n",
              "    <tr>\n",
              "      <th>Tag</th>\n",
              "      <th></th>\n",
              "    </tr>\n",
              "  </thead>\n",
              "  <tbody>\n",
              "    <tr>\n",
              "      <th>r</th>\n",
              "      <td>13236</td>\n",
              "    </tr>\n",
              "    <tr>\n",
              "      <th>regression</th>\n",
              "      <td>10959</td>\n",
              "    </tr>\n",
              "    <tr>\n",
              "      <th>machine-learning</th>\n",
              "      <td>6089</td>\n",
              "    </tr>\n",
              "    <tr>\n",
              "      <th>time-series</th>\n",
              "      <td>5559</td>\n",
              "    </tr>\n",
              "    <tr>\n",
              "      <th>probability</th>\n",
              "      <td>4217</td>\n",
              "    </tr>\n",
              "    <tr>\n",
              "      <th>...</th>\n",
              "      <td>...</td>\n",
              "    </tr>\n",
              "    <tr>\n",
              "      <th>fmincon</th>\n",
              "      <td>1</td>\n",
              "    </tr>\n",
              "    <tr>\n",
              "      <th>shapley-value</th>\n",
              "      <td>1</td>\n",
              "    </tr>\n",
              "    <tr>\n",
              "      <th>american-community-survey</th>\n",
              "      <td>1</td>\n",
              "    </tr>\n",
              "    <tr>\n",
              "      <th>propensity</th>\n",
              "      <td>1</td>\n",
              "    </tr>\n",
              "    <tr>\n",
              "      <th>corpus-linguistics</th>\n",
              "      <td>1</td>\n",
              "    </tr>\n",
              "  </tbody>\n",
              "</table>\n",
              "<p>1315 rows × 1 columns</p>\n",
              "</div><br><label><b>dtype:</b> int64</label>"
            ]
          },
          "metadata": {},
          "execution_count": 75
        }
      ]
    },
    {
      "cell_type": "code",
      "source": [
        "# remove \"-\" from the tags\n",
        "tags_df['Tag']= tags_df['Tag'].apply(lambda x:re.sub(\"-\",\" \",x))"
      ],
      "metadata": {
        "id": "mKIk-lx93kDY"
      },
      "execution_count": 76,
      "outputs": []
    },
    {
      "cell_type": "code",
      "source": [
        "# group tags Id wise\n",
        "tags_df = tags_df.groupby('Id').apply(lambda x:x['Tag'].values).reset_index(name='tags')\n",
        "tags_df.head()"
      ],
      "metadata": {
        "colab": {
          "base_uri": "https://localhost:8080/",
          "height": 261
        },
        "id": "7-xSbj5f3nvm",
        "outputId": "2d35d0b2-2a6f-4995-ff88-ff0afeb8bbef"
      },
      "execution_count": 77,
      "outputs": [
        {
          "output_type": "stream",
          "name": "stderr",
          "text": [
            "<ipython-input-77-ca9413a1b5af>:2: DeprecationWarning: DataFrameGroupBy.apply operated on the grouping columns. This behavior is deprecated, and in a future version of pandas the grouping columns will be excluded from the operation. Either pass `include_groups=False` to exclude the groupings or explicitly select the grouping columns after groupby to silence this warning.\n",
            "  tags_df = tags_df.groupby('Id').apply(lambda x:x['Tag'].values).reset_index(name='tags')\n"
          ]
        },
        {
          "output_type": "execute_result",
          "data": {
            "text/plain": [
              "   Id                                       tags\n",
              "0   1             [bayesian, prior, elicitation]\n",
              "1   2                 [distributions, normality]\n",
              "2   3                    [software, open source]\n",
              "3   4  [distributions, statistical significance]\n",
              "4   6                         [machine learning]"
            ],
            "text/html": [
              "\n",
              "  <div id=\"df-08c28a9b-e42f-476f-9ea9-d2a146adb81c\" class=\"colab-df-container\">\n",
              "    <div>\n",
              "<style scoped>\n",
              "    .dataframe tbody tr th:only-of-type {\n",
              "        vertical-align: middle;\n",
              "    }\n",
              "\n",
              "    .dataframe tbody tr th {\n",
              "        vertical-align: top;\n",
              "    }\n",
              "\n",
              "    .dataframe thead th {\n",
              "        text-align: right;\n",
              "    }\n",
              "</style>\n",
              "<table border=\"1\" class=\"dataframe\">\n",
              "  <thead>\n",
              "    <tr style=\"text-align: right;\">\n",
              "      <th></th>\n",
              "      <th>Id</th>\n",
              "      <th>tags</th>\n",
              "    </tr>\n",
              "  </thead>\n",
              "  <tbody>\n",
              "    <tr>\n",
              "      <th>0</th>\n",
              "      <td>1</td>\n",
              "      <td>[bayesian, prior, elicitation]</td>\n",
              "    </tr>\n",
              "    <tr>\n",
              "      <th>1</th>\n",
              "      <td>2</td>\n",
              "      <td>[distributions, normality]</td>\n",
              "    </tr>\n",
              "    <tr>\n",
              "      <th>2</th>\n",
              "      <td>3</td>\n",
              "      <td>[software, open source]</td>\n",
              "    </tr>\n",
              "    <tr>\n",
              "      <th>3</th>\n",
              "      <td>4</td>\n",
              "      <td>[distributions, statistical significance]</td>\n",
              "    </tr>\n",
              "    <tr>\n",
              "      <th>4</th>\n",
              "      <td>6</td>\n",
              "      <td>[machine learning]</td>\n",
              "    </tr>\n",
              "  </tbody>\n",
              "</table>\n",
              "</div>\n",
              "    <div class=\"colab-df-buttons\">\n",
              "\n",
              "  <div class=\"colab-df-container\">\n",
              "    <button class=\"colab-df-convert\" onclick=\"convertToInteractive('df-08c28a9b-e42f-476f-9ea9-d2a146adb81c')\"\n",
              "            title=\"Convert this dataframe to an interactive table.\"\n",
              "            style=\"display:none;\">\n",
              "\n",
              "  <svg xmlns=\"http://www.w3.org/2000/svg\" height=\"24px\" viewBox=\"0 -960 960 960\">\n",
              "    <path d=\"M120-120v-720h720v720H120Zm60-500h600v-160H180v160Zm220 220h160v-160H400v160Zm0 220h160v-160H400v160ZM180-400h160v-160H180v160Zm440 0h160v-160H620v160ZM180-180h160v-160H180v160Zm440 0h160v-160H620v160Z\"/>\n",
              "  </svg>\n",
              "    </button>\n",
              "\n",
              "  <style>\n",
              "    .colab-df-container {\n",
              "      display:flex;\n",
              "      gap: 12px;\n",
              "    }\n",
              "\n",
              "    .colab-df-convert {\n",
              "      background-color: #E8F0FE;\n",
              "      border: none;\n",
              "      border-radius: 50%;\n",
              "      cursor: pointer;\n",
              "      display: none;\n",
              "      fill: #1967D2;\n",
              "      height: 32px;\n",
              "      padding: 0 0 0 0;\n",
              "      width: 32px;\n",
              "    }\n",
              "\n",
              "    .colab-df-convert:hover {\n",
              "      background-color: #E2EBFA;\n",
              "      box-shadow: 0px 1px 2px rgba(60, 64, 67, 0.3), 0px 1px 3px 1px rgba(60, 64, 67, 0.15);\n",
              "      fill: #174EA6;\n",
              "    }\n",
              "\n",
              "    .colab-df-buttons div {\n",
              "      margin-bottom: 4px;\n",
              "    }\n",
              "\n",
              "    [theme=dark] .colab-df-convert {\n",
              "      background-color: #3B4455;\n",
              "      fill: #D2E3FC;\n",
              "    }\n",
              "\n",
              "    [theme=dark] .colab-df-convert:hover {\n",
              "      background-color: #434B5C;\n",
              "      box-shadow: 0px 1px 3px 1px rgba(0, 0, 0, 0.15);\n",
              "      filter: drop-shadow(0px 1px 2px rgba(0, 0, 0, 0.3));\n",
              "      fill: #FFFFFF;\n",
              "    }\n",
              "  </style>\n",
              "\n",
              "    <script>\n",
              "      const buttonEl =\n",
              "        document.querySelector('#df-08c28a9b-e42f-476f-9ea9-d2a146adb81c button.colab-df-convert');\n",
              "      buttonEl.style.display =\n",
              "        google.colab.kernel.accessAllowed ? 'block' : 'none';\n",
              "\n",
              "      async function convertToInteractive(key) {\n",
              "        const element = document.querySelector('#df-08c28a9b-e42f-476f-9ea9-d2a146adb81c');\n",
              "        const dataTable =\n",
              "          await google.colab.kernel.invokeFunction('convertToInteractive',\n",
              "                                                    [key], {});\n",
              "        if (!dataTable) return;\n",
              "\n",
              "        const docLinkHtml = 'Like what you see? Visit the ' +\n",
              "          '<a target=\"_blank\" href=https://colab.research.google.com/notebooks/data_table.ipynb>data table notebook</a>'\n",
              "          + ' to learn more about interactive tables.';\n",
              "        element.innerHTML = '';\n",
              "        dataTable['output_type'] = 'display_data';\n",
              "        await google.colab.output.renderOutput(dataTable, element);\n",
              "        const docLink = document.createElement('div');\n",
              "        docLink.innerHTML = docLinkHtml;\n",
              "        element.appendChild(docLink);\n",
              "      }\n",
              "    </script>\n",
              "  </div>\n",
              "\n",
              "\n",
              "    <div id=\"df-8b306939-3da7-4c3e-abac-adc6797a4826\">\n",
              "      <button class=\"colab-df-quickchart\" onclick=\"quickchart('df-8b306939-3da7-4c3e-abac-adc6797a4826')\"\n",
              "                title=\"Suggest charts\"\n",
              "                style=\"display:none;\">\n",
              "\n",
              "<svg xmlns=\"http://www.w3.org/2000/svg\" height=\"24px\"viewBox=\"0 0 24 24\"\n",
              "     width=\"24px\">\n",
              "    <g>\n",
              "        <path d=\"M19 3H5c-1.1 0-2 .9-2 2v14c0 1.1.9 2 2 2h14c1.1 0 2-.9 2-2V5c0-1.1-.9-2-2-2zM9 17H7v-7h2v7zm4 0h-2V7h2v10zm4 0h-2v-4h2v4z\"/>\n",
              "    </g>\n",
              "</svg>\n",
              "      </button>\n",
              "\n",
              "<style>\n",
              "  .colab-df-quickchart {\n",
              "      --bg-color: #E8F0FE;\n",
              "      --fill-color: #1967D2;\n",
              "      --hover-bg-color: #E2EBFA;\n",
              "      --hover-fill-color: #174EA6;\n",
              "      --disabled-fill-color: #AAA;\n",
              "      --disabled-bg-color: #DDD;\n",
              "  }\n",
              "\n",
              "  [theme=dark] .colab-df-quickchart {\n",
              "      --bg-color: #3B4455;\n",
              "      --fill-color: #D2E3FC;\n",
              "      --hover-bg-color: #434B5C;\n",
              "      --hover-fill-color: #FFFFFF;\n",
              "      --disabled-bg-color: #3B4455;\n",
              "      --disabled-fill-color: #666;\n",
              "  }\n",
              "\n",
              "  .colab-df-quickchart {\n",
              "    background-color: var(--bg-color);\n",
              "    border: none;\n",
              "    border-radius: 50%;\n",
              "    cursor: pointer;\n",
              "    display: none;\n",
              "    fill: var(--fill-color);\n",
              "    height: 32px;\n",
              "    padding: 0;\n",
              "    width: 32px;\n",
              "  }\n",
              "\n",
              "  .colab-df-quickchart:hover {\n",
              "    background-color: var(--hover-bg-color);\n",
              "    box-shadow: 0 1px 2px rgba(60, 64, 67, 0.3), 0 1px 3px 1px rgba(60, 64, 67, 0.15);\n",
              "    fill: var(--button-hover-fill-color);\n",
              "  }\n",
              "\n",
              "  .colab-df-quickchart-complete:disabled,\n",
              "  .colab-df-quickchart-complete:disabled:hover {\n",
              "    background-color: var(--disabled-bg-color);\n",
              "    fill: var(--disabled-fill-color);\n",
              "    box-shadow: none;\n",
              "  }\n",
              "\n",
              "  .colab-df-spinner {\n",
              "    border: 2px solid var(--fill-color);\n",
              "    border-color: transparent;\n",
              "    border-bottom-color: var(--fill-color);\n",
              "    animation:\n",
              "      spin 1s steps(1) infinite;\n",
              "  }\n",
              "\n",
              "  @keyframes spin {\n",
              "    0% {\n",
              "      border-color: transparent;\n",
              "      border-bottom-color: var(--fill-color);\n",
              "      border-left-color: var(--fill-color);\n",
              "    }\n",
              "    20% {\n",
              "      border-color: transparent;\n",
              "      border-left-color: var(--fill-color);\n",
              "      border-top-color: var(--fill-color);\n",
              "    }\n",
              "    30% {\n",
              "      border-color: transparent;\n",
              "      border-left-color: var(--fill-color);\n",
              "      border-top-color: var(--fill-color);\n",
              "      border-right-color: var(--fill-color);\n",
              "    }\n",
              "    40% {\n",
              "      border-color: transparent;\n",
              "      border-right-color: var(--fill-color);\n",
              "      border-top-color: var(--fill-color);\n",
              "    }\n",
              "    60% {\n",
              "      border-color: transparent;\n",
              "      border-right-color: var(--fill-color);\n",
              "    }\n",
              "    80% {\n",
              "      border-color: transparent;\n",
              "      border-right-color: var(--fill-color);\n",
              "      border-bottom-color: var(--fill-color);\n",
              "    }\n",
              "    90% {\n",
              "      border-color: transparent;\n",
              "      border-bottom-color: var(--fill-color);\n",
              "    }\n",
              "  }\n",
              "</style>\n",
              "\n",
              "      <script>\n",
              "        async function quickchart(key) {\n",
              "          const quickchartButtonEl =\n",
              "            document.querySelector('#' + key + ' button');\n",
              "          quickchartButtonEl.disabled = true;  // To prevent multiple clicks.\n",
              "          quickchartButtonEl.classList.add('colab-df-spinner');\n",
              "          try {\n",
              "            const charts = await google.colab.kernel.invokeFunction(\n",
              "                'suggestCharts', [key], {});\n",
              "          } catch (error) {\n",
              "            console.error('Error during call to suggestCharts:', error);\n",
              "          }\n",
              "          quickchartButtonEl.classList.remove('colab-df-spinner');\n",
              "          quickchartButtonEl.classList.add('colab-df-quickchart-complete');\n",
              "        }\n",
              "        (() => {\n",
              "          let quickchartButtonEl =\n",
              "            document.querySelector('#df-8b306939-3da7-4c3e-abac-adc6797a4826 button');\n",
              "          quickchartButtonEl.style.display =\n",
              "            google.colab.kernel.accessAllowed ? 'block' : 'none';\n",
              "        })();\n",
              "      </script>\n",
              "    </div>\n",
              "\n",
              "    </div>\n",
              "  </div>\n"
            ],
            "application/vnd.google.colaboratory.intrinsic+json": {
              "type": "dataframe",
              "variable_name": "tags_df",
              "summary": "{\n  \"name\": \"tags_df\",\n  \"rows\": 85085,\n  \"fields\": [\n    {\n      \"column\": \"Id\",\n      \"properties\": {\n        \"dtype\": \"number\",\n        \"std\": 70656,\n        \"min\": 1,\n        \"max\": 241481,\n        \"num_unique_values\": 85085,\n        \"samples\": [\n          113857,\n          89143,\n          105783\n        ],\n        \"semantic_type\": \"\",\n        \"description\": \"\"\n      }\n    },\n    {\n      \"column\": \"tags\",\n      \"properties\": {\n        \"dtype\": \"object\",\n        \"semantic_type\": \"\",\n        \"description\": \"\"\n      }\n    }\n  ]\n}"
            }
          },
          "metadata": {},
          "execution_count": 77
        }
      ]
    },
    {
      "cell_type": "code",
      "source": [
        "# merge tags and questions\n",
        "df = pd.merge(questions_df,tags_df,how='inner',on='Id')"
      ],
      "metadata": {
        "id": "7v4ZJPBG30Hw"
      },
      "execution_count": 78,
      "outputs": []
    },
    {
      "cell_type": "code",
      "source": [
        "df = df[['Id','Body','cleaned_text','tags']]\n",
        "df.head()"
      ],
      "metadata": {
        "colab": {
          "base_uri": "https://localhost:8080/",
          "height": 362
        },
        "id": "gAzLE7UD35JU",
        "outputId": "8d35d520-e6f0-4c60-8f47-2f13bf4281cd"
      },
      "execution_count": 79,
      "outputs": [
        {
          "output_type": "execute_result",
          "data": {
            "text/plain": [
              "   Id  \\\n",
              "0   6   \n",
              "1  21   \n",
              "2  22   \n",
              "3  31   \n",
              "4  36   \n",
              "\n",
              "                                                                                                                                                                                                      Body  \\\n",
              "0  <p>Last year, I read a blog post from <a href=\"http://anyall.org/\">Brendan O'Connor</a> entitled <a href=\"http://anyall.org/blog/2008/12/statistics-vs-machine-learning-fight/\">\"Statistics vs. Mach...   \n",
              "1  <p>What are some of the ways to forecast demographic census with some validation and calibration techniques?</p>\\n\\n<p>Some of the concerns:</p>\\n\\n<ul>\\n<li>Census blocks vary in sizes as rural\\n...   \n",
              "2                                                                               <p>How would you describe in plain English the characteristics that distinguish Bayesian from Frequentist reasoning?</p>\\n   \n",
              "3  <p>After taking a statistics course and then trying to help fellow students, I noticed one subject that inspires much head-desk banging is interpreting the results of statistical hypothesis tests....   \n",
              "4  <p>There is an old saying: \"Correlation does not mean causation\". When I teach, I tend to use the following standard examples to illustrate this point:</p>\\n\\n<ol>\\n<li>number of storks and birth ...   \n",
              "\n",
              "                                                                                                                                                                                              cleaned_text  \\\n",
              "0  last year i read a blog post from brendan o connor entitled statistics vs machine learning fight that discussed some of the differences between the two fields andrew gelman responded favorably to ...   \n",
              "1  what are some of the ways to forecast demographic census with some validation and calibration techniques some of the concerns census blocks vary in sizes as rural areas are a lot larger than conde...   \n",
              "2                                                                                         how would you describe in plain english the characteristics that distinguish bayesian from frequentist reasoning   \n",
              "3  after taking a statistics course and then trying to help fellow students i noticed one subject that inspires much head desk banging is interpreting the results of statistical hypothesis tests it s...   \n",
              "4  there is an old saying correlation does not mean causation when i teach i tend to use the following standard examples to illustrate this point number of storks and birth rate in denmark number of ...   \n",
              "\n",
              "                                                               tags  \n",
              "0                                                [machine learning]  \n",
              "1                                 [forecasting, population, census]  \n",
              "2                                           [bayesian, frequentist]  \n",
              "3  [hypothesis testing, t test, p value, interpretation, intuition]  \n",
              "4                                           [correlation, teaching]  "
            ],
            "text/html": [
              "\n",
              "  <div id=\"df-a721d135-c5fa-4b14-8023-67ee8da555f9\" class=\"colab-df-container\">\n",
              "    <div>\n",
              "<style scoped>\n",
              "    .dataframe tbody tr th:only-of-type {\n",
              "        vertical-align: middle;\n",
              "    }\n",
              "\n",
              "    .dataframe tbody tr th {\n",
              "        vertical-align: top;\n",
              "    }\n",
              "\n",
              "    .dataframe thead th {\n",
              "        text-align: right;\n",
              "    }\n",
              "</style>\n",
              "<table border=\"1\" class=\"dataframe\">\n",
              "  <thead>\n",
              "    <tr style=\"text-align: right;\">\n",
              "      <th></th>\n",
              "      <th>Id</th>\n",
              "      <th>Body</th>\n",
              "      <th>cleaned_text</th>\n",
              "      <th>tags</th>\n",
              "    </tr>\n",
              "  </thead>\n",
              "  <tbody>\n",
              "    <tr>\n",
              "      <th>0</th>\n",
              "      <td>6</td>\n",
              "      <td>&lt;p&gt;Last year, I read a blog post from &lt;a href=\"http://anyall.org/\"&gt;Brendan O'Connor&lt;/a&gt; entitled &lt;a href=\"http://anyall.org/blog/2008/12/statistics-vs-machine-learning-fight/\"&gt;\"Statistics vs. Mach...</td>\n",
              "      <td>last year i read a blog post from brendan o connor entitled statistics vs machine learning fight that discussed some of the differences between the two fields andrew gelman responded favorably to ...</td>\n",
              "      <td>[machine learning]</td>\n",
              "    </tr>\n",
              "    <tr>\n",
              "      <th>1</th>\n",
              "      <td>21</td>\n",
              "      <td>&lt;p&gt;What are some of the ways to forecast demographic census with some validation and calibration techniques?&lt;/p&gt;\\n\\n&lt;p&gt;Some of the concerns:&lt;/p&gt;\\n\\n&lt;ul&gt;\\n&lt;li&gt;Census blocks vary in sizes as rural\\n...</td>\n",
              "      <td>what are some of the ways to forecast demographic census with some validation and calibration techniques some of the concerns census blocks vary in sizes as rural areas are a lot larger than conde...</td>\n",
              "      <td>[forecasting, population, census]</td>\n",
              "    </tr>\n",
              "    <tr>\n",
              "      <th>2</th>\n",
              "      <td>22</td>\n",
              "      <td>&lt;p&gt;How would you describe in plain English the characteristics that distinguish Bayesian from Frequentist reasoning?&lt;/p&gt;\\n</td>\n",
              "      <td>how would you describe in plain english the characteristics that distinguish bayesian from frequentist reasoning</td>\n",
              "      <td>[bayesian, frequentist]</td>\n",
              "    </tr>\n",
              "    <tr>\n",
              "      <th>3</th>\n",
              "      <td>31</td>\n",
              "      <td>&lt;p&gt;After taking a statistics course and then trying to help fellow students, I noticed one subject that inspires much head-desk banging is interpreting the results of statistical hypothesis tests....</td>\n",
              "      <td>after taking a statistics course and then trying to help fellow students i noticed one subject that inspires much head desk banging is interpreting the results of statistical hypothesis tests it s...</td>\n",
              "      <td>[hypothesis testing, t test, p value, interpretation, intuition]</td>\n",
              "    </tr>\n",
              "    <tr>\n",
              "      <th>4</th>\n",
              "      <td>36</td>\n",
              "      <td>&lt;p&gt;There is an old saying: \"Correlation does not mean causation\". When I teach, I tend to use the following standard examples to illustrate this point:&lt;/p&gt;\\n\\n&lt;ol&gt;\\n&lt;li&gt;number of storks and birth ...</td>\n",
              "      <td>there is an old saying correlation does not mean causation when i teach i tend to use the following standard examples to illustrate this point number of storks and birth rate in denmark number of ...</td>\n",
              "      <td>[correlation, teaching]</td>\n",
              "    </tr>\n",
              "  </tbody>\n",
              "</table>\n",
              "</div>\n",
              "    <div class=\"colab-df-buttons\">\n",
              "\n",
              "  <div class=\"colab-df-container\">\n",
              "    <button class=\"colab-df-convert\" onclick=\"convertToInteractive('df-a721d135-c5fa-4b14-8023-67ee8da555f9')\"\n",
              "            title=\"Convert this dataframe to an interactive table.\"\n",
              "            style=\"display:none;\">\n",
              "\n",
              "  <svg xmlns=\"http://www.w3.org/2000/svg\" height=\"24px\" viewBox=\"0 -960 960 960\">\n",
              "    <path d=\"M120-120v-720h720v720H120Zm60-500h600v-160H180v160Zm220 220h160v-160H400v160Zm0 220h160v-160H400v160ZM180-400h160v-160H180v160Zm440 0h160v-160H620v160ZM180-180h160v-160H180v160Zm440 0h160v-160H620v160Z\"/>\n",
              "  </svg>\n",
              "    </button>\n",
              "\n",
              "  <style>\n",
              "    .colab-df-container {\n",
              "      display:flex;\n",
              "      gap: 12px;\n",
              "    }\n",
              "\n",
              "    .colab-df-convert {\n",
              "      background-color: #E8F0FE;\n",
              "      border: none;\n",
              "      border-radius: 50%;\n",
              "      cursor: pointer;\n",
              "      display: none;\n",
              "      fill: #1967D2;\n",
              "      height: 32px;\n",
              "      padding: 0 0 0 0;\n",
              "      width: 32px;\n",
              "    }\n",
              "\n",
              "    .colab-df-convert:hover {\n",
              "      background-color: #E2EBFA;\n",
              "      box-shadow: 0px 1px 2px rgba(60, 64, 67, 0.3), 0px 1px 3px 1px rgba(60, 64, 67, 0.15);\n",
              "      fill: #174EA6;\n",
              "    }\n",
              "\n",
              "    .colab-df-buttons div {\n",
              "      margin-bottom: 4px;\n",
              "    }\n",
              "\n",
              "    [theme=dark] .colab-df-convert {\n",
              "      background-color: #3B4455;\n",
              "      fill: #D2E3FC;\n",
              "    }\n",
              "\n",
              "    [theme=dark] .colab-df-convert:hover {\n",
              "      background-color: #434B5C;\n",
              "      box-shadow: 0px 1px 3px 1px rgba(0, 0, 0, 0.15);\n",
              "      filter: drop-shadow(0px 1px 2px rgba(0, 0, 0, 0.3));\n",
              "      fill: #FFFFFF;\n",
              "    }\n",
              "  </style>\n",
              "\n",
              "    <script>\n",
              "      const buttonEl =\n",
              "        document.querySelector('#df-a721d135-c5fa-4b14-8023-67ee8da555f9 button.colab-df-convert');\n",
              "      buttonEl.style.display =\n",
              "        google.colab.kernel.accessAllowed ? 'block' : 'none';\n",
              "\n",
              "      async function convertToInteractive(key) {\n",
              "        const element = document.querySelector('#df-a721d135-c5fa-4b14-8023-67ee8da555f9');\n",
              "        const dataTable =\n",
              "          await google.colab.kernel.invokeFunction('convertToInteractive',\n",
              "                                                    [key], {});\n",
              "        if (!dataTable) return;\n",
              "\n",
              "        const docLinkHtml = 'Like what you see? Visit the ' +\n",
              "          '<a target=\"_blank\" href=https://colab.research.google.com/notebooks/data_table.ipynb>data table notebook</a>'\n",
              "          + ' to learn more about interactive tables.';\n",
              "        element.innerHTML = '';\n",
              "        dataTable['output_type'] = 'display_data';\n",
              "        await google.colab.output.renderOutput(dataTable, element);\n",
              "        const docLink = document.createElement('div');\n",
              "        docLink.innerHTML = docLinkHtml;\n",
              "        element.appendChild(docLink);\n",
              "      }\n",
              "    </script>\n",
              "  </div>\n",
              "\n",
              "\n",
              "    <div id=\"df-409f9f53-e9f4-4bf9-93ed-307a0103e418\">\n",
              "      <button class=\"colab-df-quickchart\" onclick=\"quickchart('df-409f9f53-e9f4-4bf9-93ed-307a0103e418')\"\n",
              "                title=\"Suggest charts\"\n",
              "                style=\"display:none;\">\n",
              "\n",
              "<svg xmlns=\"http://www.w3.org/2000/svg\" height=\"24px\"viewBox=\"0 0 24 24\"\n",
              "     width=\"24px\">\n",
              "    <g>\n",
              "        <path d=\"M19 3H5c-1.1 0-2 .9-2 2v14c0 1.1.9 2 2 2h14c1.1 0 2-.9 2-2V5c0-1.1-.9-2-2-2zM9 17H7v-7h2v7zm4 0h-2V7h2v10zm4 0h-2v-4h2v4z\"/>\n",
              "    </g>\n",
              "</svg>\n",
              "      </button>\n",
              "\n",
              "<style>\n",
              "  .colab-df-quickchart {\n",
              "      --bg-color: #E8F0FE;\n",
              "      --fill-color: #1967D2;\n",
              "      --hover-bg-color: #E2EBFA;\n",
              "      --hover-fill-color: #174EA6;\n",
              "      --disabled-fill-color: #AAA;\n",
              "      --disabled-bg-color: #DDD;\n",
              "  }\n",
              "\n",
              "  [theme=dark] .colab-df-quickchart {\n",
              "      --bg-color: #3B4455;\n",
              "      --fill-color: #D2E3FC;\n",
              "      --hover-bg-color: #434B5C;\n",
              "      --hover-fill-color: #FFFFFF;\n",
              "      --disabled-bg-color: #3B4455;\n",
              "      --disabled-fill-color: #666;\n",
              "  }\n",
              "\n",
              "  .colab-df-quickchart {\n",
              "    background-color: var(--bg-color);\n",
              "    border: none;\n",
              "    border-radius: 50%;\n",
              "    cursor: pointer;\n",
              "    display: none;\n",
              "    fill: var(--fill-color);\n",
              "    height: 32px;\n",
              "    padding: 0;\n",
              "    width: 32px;\n",
              "  }\n",
              "\n",
              "  .colab-df-quickchart:hover {\n",
              "    background-color: var(--hover-bg-color);\n",
              "    box-shadow: 0 1px 2px rgba(60, 64, 67, 0.3), 0 1px 3px 1px rgba(60, 64, 67, 0.15);\n",
              "    fill: var(--button-hover-fill-color);\n",
              "  }\n",
              "\n",
              "  .colab-df-quickchart-complete:disabled,\n",
              "  .colab-df-quickchart-complete:disabled:hover {\n",
              "    background-color: var(--disabled-bg-color);\n",
              "    fill: var(--disabled-fill-color);\n",
              "    box-shadow: none;\n",
              "  }\n",
              "\n",
              "  .colab-df-spinner {\n",
              "    border: 2px solid var(--fill-color);\n",
              "    border-color: transparent;\n",
              "    border-bottom-color: var(--fill-color);\n",
              "    animation:\n",
              "      spin 1s steps(1) infinite;\n",
              "  }\n",
              "\n",
              "  @keyframes spin {\n",
              "    0% {\n",
              "      border-color: transparent;\n",
              "      border-bottom-color: var(--fill-color);\n",
              "      border-left-color: var(--fill-color);\n",
              "    }\n",
              "    20% {\n",
              "      border-color: transparent;\n",
              "      border-left-color: var(--fill-color);\n",
              "      border-top-color: var(--fill-color);\n",
              "    }\n",
              "    30% {\n",
              "      border-color: transparent;\n",
              "      border-left-color: var(--fill-color);\n",
              "      border-top-color: var(--fill-color);\n",
              "      border-right-color: var(--fill-color);\n",
              "    }\n",
              "    40% {\n",
              "      border-color: transparent;\n",
              "      border-right-color: var(--fill-color);\n",
              "      border-top-color: var(--fill-color);\n",
              "    }\n",
              "    60% {\n",
              "      border-color: transparent;\n",
              "      border-right-color: var(--fill-color);\n",
              "    }\n",
              "    80% {\n",
              "      border-color: transparent;\n",
              "      border-right-color: var(--fill-color);\n",
              "      border-bottom-color: var(--fill-color);\n",
              "    }\n",
              "    90% {\n",
              "      border-color: transparent;\n",
              "      border-bottom-color: var(--fill-color);\n",
              "    }\n",
              "  }\n",
              "</style>\n",
              "\n",
              "      <script>\n",
              "        async function quickchart(key) {\n",
              "          const quickchartButtonEl =\n",
              "            document.querySelector('#' + key + ' button');\n",
              "          quickchartButtonEl.disabled = true;  // To prevent multiple clicks.\n",
              "          quickchartButtonEl.classList.add('colab-df-spinner');\n",
              "          try {\n",
              "            const charts = await google.colab.kernel.invokeFunction(\n",
              "                'suggestCharts', [key], {});\n",
              "          } catch (error) {\n",
              "            console.error('Error during call to suggestCharts:', error);\n",
              "          }\n",
              "          quickchartButtonEl.classList.remove('colab-df-spinner');\n",
              "          quickchartButtonEl.classList.add('colab-df-quickchart-complete');\n",
              "        }\n",
              "        (() => {\n",
              "          let quickchartButtonEl =\n",
              "            document.querySelector('#df-409f9f53-e9f4-4bf9-93ed-307a0103e418 button');\n",
              "          quickchartButtonEl.style.display =\n",
              "            google.colab.kernel.accessAllowed ? 'block' : 'none';\n",
              "        })();\n",
              "      </script>\n",
              "    </div>\n",
              "\n",
              "    </div>\n",
              "  </div>\n"
            ],
            "application/vnd.google.colaboratory.intrinsic+json": {
              "type": "dataframe",
              "variable_name": "df",
              "summary": "{\n  \"name\": \"df\",\n  \"rows\": 85085,\n  \"fields\": [\n    {\n      \"column\": \"Id\",\n      \"properties\": {\n        \"dtype\": \"number\",\n        \"std\": 70656,\n        \"min\": 1,\n        \"max\": 241481,\n        \"num_unique_values\": 85085,\n        \"samples\": [\n          182860,\n          113691,\n          11232\n        ],\n        \"semantic_type\": \"\",\n        \"description\": \"\"\n      }\n    },\n    {\n      \"column\": \"Body\",\n      \"properties\": {\n        \"dtype\": \"string\",\n        \"num_unique_values\": 85076,\n        \"samples\": [\n          \"<p>I've read a paper where they compute an $F$-test for the hypothesis that the autocorrelations of two groups are equal. Specifically, they estimate the autocorrelations of two time series $x_t$ and $y_t$ via OLS:\\n$$y_t = a_1 + b_1y_{t-1} + e_t$$\\n$$x_t = a_2 + b_2x_{t-1} + e_t$$</p>\\n\\n<p>Now they test the null hypothesis that $b_1 = b_2$ with an $F$-test. My question is, how can I do that, and which particular test statistic do I have to use?</p>\\n\\n<p>Best regards,<br>\\nChristian</p>\\n\",\n          \"<p>I have been attempting to do an ARIMA modelling in SAS. The series is not stationary but when I estimate the ACF and PACF p-values I don't get appropriate answers to find out if my model is adequate or not.Can anyone help me as may be I have been choosing the wrong p and q values. year age-group members.For stationarity I have used Sas which shows me that series is stationary with constant mean and variance.<img src=\\\"http://i.stack.imgur.com/GwpIk.png\\\" alt=\\\" model showing Stationary series for members\\\"></p>\\n\\n<p>year    age-group   members</p>\\n\\n<p>1997    16to21      21.1</p>\\n\\n<p>1997    22to29      47.5</p>\\n\\n<p>1997    30to39      61.7</p>\\n\\n<p>1997    40to49      65.1</p>\\n\\n<p>1997    50to54      64.1</p>\\n\\n<p>1997    55to59      58.7</p>\\n\\n<p>1997    60to64      48.2</p>\\n\\n<p>1997    65ANDOVER   12.2</p>\\n\\n<p>1998    16to21      18.6</p>\\n\\n<p>1998    22to29      46.3</p>\\n\\n<p>1998    30to39      61.1</p>\\n\\n<p>1998    40to49      65.4</p>\\n\\n<p>1998    50to54      64</p>\\n\\n<p>1998    55to59      59</p>\\n\\n<p>1998    60to64      45.4</p>\\n\\n<p>1998    65ANDOVER   12.5</p>\\n\\n<p>1999    16to21      19.6</p>\\n\\n<p>1999    22to29      47.3</p>\\n\\n<p>1999    30to39      61.6</p>\\n\\n<p>1999    40to49      65.8</p>\\n\\n<p>1999    50to54      64.8</p>\\n\\n<p>1999    55to59      58.5</p>\\n\\n<p>1999    60to64      45.2</p>\\n\\n<p>1999    65ANDOVER   10.1</p>\\n\\n<p>2000    16to21      20.9</p>\\n\\n<p>2000    22to29      47.6</p>\\n\\n<p>2000    30to39      61.5</p>\\n\\n<p>2000    40to49      65.8</p>\\n\\n<p>2000    50to54      64.6</p>\\n\\n<p>2000    55to59      58.8</p>\\n\\n<p>2000    60to64      44</p>\\n\\n<p>2000    65ANDOVER   10.7</p>\\n\\n<p>2001    16to21      20.7</p>\\n\\n<p>2001    22to29      47.1</p>\\n\\n<p>2001    30to39      61.7</p>\\n\\n<p>2001    40to49      65.7</p>\\n\\n<p>2001    50to54      64.5</p>\\n\\n<p>2001    55to59      59.2</p>\\n\\n<p>2001    60to64      42.6</p>\\n\\n<p>2001    65ANDOVER   11.7</p>\\n\\n<p>2002    16to21      19.4</p>\\n\\n<p>2002    22to29      49.2</p>\\n\\n<p>2002    30to39      62.8</p>\\n\\n<p>2002    40to49      67.1</p>\\n\\n<p>2002    50to54      65.8</p>\\n\\n<p>2002    55to59      61.2 </p>\\n\\n<p>2002    60to64      45.2</p>\\n\\n<p>2002    65ANDOVER   10.1</p>\\n\\n<p>2003    16to21      17.3</p>\\n\\n<p>2003    22to29      45.2</p>\\n\\n<p>2003    30to39      59.7</p>\\n\\n<p>2003    40to49      65.1</p>\\n\\n<p>2003    50to54      64.9</p>\\n\\n<p>2003    55to59      59.1</p>\\n\\n<p>2003    60to64      44.5</p>\\n\\n<p>2003    65ANDOVER   10.7</p>\\n\\n<p>2004    16to21      14.1</p>\\n\\n<p>2004    22to29      44</p>\\n\\n<p>2004    30to39      60.5</p>\\n\\n<p>2004    40to49      66.2</p>\\n\\n<p>2004    50to54      66.3</p>\\n\\n<p>2004    55to59      61.4</p>\\n\\n<p>2004    60to64      45.9</p>\\n\\n<p>2004    65ANDOVER   12.1</p>\\n\\n<p>2005    16to21      11.4</p>\\n\\n<p>2005    22to29      38.7</p>\\n\\n<p>2005    30to39      56.1</p>\\n\\n<p>2005    40to49      62.3</p>\\n\\n<p>2005    50to54      63.2</p>\\n\\n<p>2005    55to59      58</p>\\n\\n<p>2005    60to64      42.7</p>\\n\\n<p>2005    65ANDOVER   6.8</p>\\n\\n<p>2006    16to21      11.7</p>\\n\\n<p>2006    22to29      38.1</p>\\n\\n<p>2006    30to39      56</p>\\n\\n<p>2006    40to49      62.1</p>\\n\\n<p>2006    50to54      62.8</p>\\n\\n<p>2006    55to59      58.8</p>\\n\\n<p>2006    60to64      44.7</p>\\n\\n<p>2006    65ANDOVER   10</p>\\n\\n<p>2007    16to21      11.4</p>\\n\\n<p>2007    22to29      36.9</p>\\n\\n<p>2007    30to39      54.8</p>\\n\\n<p>2007    40to49      60.7</p>\\n\\n<p>2007    50to54      62.3</p>\\n\\n<p>2007    55to59      58.7</p>\\n\\n<p>2007    60to64      45.1</p>\\n\\n<p>2007    65ANDOVER   10.9\\n2008    16to21      9.2</p>\\n\\n<p>2008    22to29      34.8</p>\\n\\n<p>2008    30to39      53.6</p>\\n\\n<p>2008    40to49      60</p>\\n\\n<p>2008    50to54      62.9</p>\\n\\n<p>2008    55to59      59</p>\\n\\n<p>2008    60to64      45.4</p>\\n\\n<p>2008    65ANDOVER   12.3</p>\\n\\n<p>2009    16to21      9.6</p>\\n\\n<p>2009    22to29      35.4</p>\\n\\n<p>2009    30to39      53.2</p>\\n\\n<p>2009    40to49      60.3</p>\\n\\n<p>2009    50to54      62.4</p>\\n\\n<p>2009    55to59      59.7</p>\\n\\n<p>2009    60to64      46.3</p>\\n\\n<p>2009    65ANDOVER   12.5</p>\\n\\n<p>2010    16to21      9.1</p>\\n\\n<p>2010    22to29      34.1</p>\\n\\n<p>2010    30to39      52.6</p>\\n\\n<p>2010    40to49      59.6</p>\\n\\n<p>2010    50to54      62</p>\\n\\n<p>2010    55to59      59.2</p>\\n\\n<p>2010    60to64      46.3</p>\\n\\n<p>2010    65ANDOVER   13.9</p>\\n\\n<p>2011    16to21      7.7</p>\\n\\n<p>2011    22to29      31.8</p>\\n\\n<p>2011    30to39      50.7</p>\\n\\n<p>2011    40to49      57.9</p>\\n\\n<p>2011    50to54      60.1</p>\\n\\n<p>2011    55to59      57.3</p>\\n\\n<p>2011    60to64      45</p>\\n\\n<p>2011    65ANDOVER   14.6</p>\\n\\n<p>2012    16to21      6.5</p>\\n\\n<p>2012    22to29      30.2</p>\\n\\n<p>2012    30to39      49.1</p>\\n\\n<p>2012    40to49      56.1</p>\\n\\n<p>2012    50to54      58.2</p>\\n\\n<p>2012    55to59      55.5</p>\\n\\n<p>2012    60to64      43.9</p>\\n\\n<p>2012    65ANDOVER   14.8</p>\\n\",\n          \"<p>I'm trying to make my results more intuitive, and so I want to compare the predicted values at the interquartile range. I'm trying to figure out how to get the predicted value for a given variable, keeping everything else at the median.</p>\\n\\n<p>I've tried something like this:</p>\\n\\n<pre><code>x_1 &lt;- rnorm(20)\\nx_2 &lt;- rnorm(20)\\ny &lt;- x_1 + x_2 + rnorm(20)\\nz &lt;- data.frame(y,x_1,x_2)\\nfit &lt;- lm(y~x_1 + x_2,data = z)\\npredict(fit,newdata = data.frame(x_1=c(quantile(x_1)[2],quantile(x_1)[4]), x_2=median(x_2)))\\n</code></pre>\\n\\n<p>which works, but my actual model has 10+ variables, and this starts to get ugly really quickly, so I figure there must be a better way?</p>\\n\"\n        ],\n        \"semantic_type\": \"\",\n        \"description\": \"\"\n      }\n    },\n    {\n      \"column\": \"cleaned_text\",\n      \"properties\": {\n        \"dtype\": \"string\",\n        \"num_unique_values\": 85062,\n        \"samples\": [\n          \"if i take some sequences of random numbers generated by a random number generator with uniform distribution will the resulting sequences be uniformly distributed as well by example if i have a generator that returns or what are the probabilities to get and\",\n          \"i have what is possible a naive question i am current comparing various models i e distributions and the comparisons do not involve different distributions but rather how the model is fed the data for example two models might be a mixture of a gamma exponential and a mixture of a gamma exponential wherein the minimum data point is subtracted with respect to model if i subtract the minimum data then i am left with a data point the model s fit fine and i get my mle values however if i am working with just a gamma and in one model i remove the minimum data point then that data point causes errors in the mle estimator to get past this issue i simply remove the data point and fit the distribution my question is is there a problem with simply removing the data point my worry is decreasing the size of my data set and should i do that for the gamma exponential as well thanks\",\n          \"i am doing a binary classification task and i am calculating the auc roc and the recall as follows recall metrics recall score y test y pred pos label none average macro auc roc auc score y test y pred and i always end up wit the exact same value for both recall auc i have no idea why this is happening any help\"\n        ],\n        \"semantic_type\": \"\",\n        \"description\": \"\"\n      }\n    },\n    {\n      \"column\": \"tags\",\n      \"properties\": {\n        \"dtype\": \"object\",\n        \"semantic_type\": \"\",\n        \"description\": \"\"\n      }\n    }\n  ]\n}"
            }
          },
          "metadata": {},
          "execution_count": 79
        }
      ]
    },
    {
      "cell_type": "markdown",
      "source": [
        "# Dataset Preparation"
      ],
      "metadata": {
        "id": "Bvws9g6Z4Xcx"
      }
    },
    {
      "cell_type": "code",
      "source": [
        "# check frequency of occurence of each tag\n",
        "freq= {}\n",
        "for i in df['tags']:\n",
        "  for j in i:\n",
        "    if j in freq.keys():\n",
        "      freq[j] = freq[j] + 1\n",
        "    else:\n",
        "      freq[j] = 1"
      ],
      "metadata": {
        "id": "eMYpTvkL37Ae"
      },
      "execution_count": 80,
      "outputs": []
    },
    {
      "cell_type": "code",
      "source": [
        " #sort the dictionary in descending order\n",
        "freq = dict(sorted(freq.items(), key=lambda x:x[1],reverse=True))"
      ],
      "metadata": {
        "id": "ZX2HspZW8BkD"
      },
      "execution_count": 81,
      "outputs": []
    },
    {
      "cell_type": "code",
      "source": [
        "# Top 10 most frequent tags\n",
        "common_tags = list(freq.keys())[:10]\n",
        "common_tags"
      ],
      "metadata": {
        "colab": {
          "base_uri": "https://localhost:8080/"
        },
        "id": "LnWKbtzD8GVX",
        "outputId": "e788d514-d84d-4d8e-ef1f-7dae7f585c33"
      },
      "execution_count": 82,
      "outputs": [
        {
          "output_type": "execute_result",
          "data": {
            "text/plain": [
              "['r',\n",
              " 'regression',\n",
              " 'machine learning',\n",
              " 'time series',\n",
              " 'probability',\n",
              " 'hypothesis testing',\n",
              " 'self study',\n",
              " 'distributions',\n",
              " 'logistic',\n",
              " 'classification']"
            ]
          },
          "metadata": {},
          "execution_count": 82
        }
      ]
    },
    {
      "cell_type": "code",
      "source": [
        "x=[]\n",
        "y=[]\n",
        "\n",
        "for i in range(len(df['tags'])):\n",
        "\n",
        "  temp=[]\n",
        "  for j in df['tags'][i]:\n",
        "    if j in common_tags:\n",
        "      temp.append(j)\n",
        "\n",
        "  if(len(temp)>1):\n",
        "    x.append(df['cleaned_text'][i])\n",
        "    y.append(temp)"
      ],
      "metadata": {
        "id": "nojLOXGM8Kem"
      },
      "execution_count": 83,
      "outputs": []
    },
    {
      "cell_type": "code",
      "source": [
        "y[:10]"
      ],
      "metadata": {
        "colab": {
          "base_uri": "https://localhost:8080/"
        },
        "id": "EmcoIVBJ8XGK",
        "outputId": "c8255dae-8f9c-4783-b009-c6138300fc74"
      },
      "execution_count": 84,
      "outputs": [
        {
          "output_type": "execute_result",
          "data": {
            "text/plain": [
              "[['r', 'time series'],\n",
              " ['regression', 'distributions'],\n",
              " ['distributions', 'probability', 'hypothesis testing'],\n",
              " ['hypothesis testing', 'self study'],\n",
              " ['r', 'regression', 'time series'],\n",
              " ['r', 'time series', 'self study'],\n",
              " ['probability', 'hypothesis testing'],\n",
              " ['r', 'regression'],\n",
              " ['r', 'regression'],\n",
              " ['regression', 'logistic']]"
            ]
          },
          "metadata": {},
          "execution_count": 84
        }
      ]
    },
    {
      "cell_type": "code",
      "source": [
        "from sklearn.preprocessing import MultiLabelBinarizer\n",
        "mlb = MultiLabelBinarizer()\n",
        "\n",
        "y = mlb.fit_transform(y)\n",
        "y.shape"
      ],
      "metadata": {
        "colab": {
          "base_uri": "https://localhost:8080/"
        },
        "id": "tU_DByiw8ank",
        "outputId": "0feb2987-e45e-43a4-e828-453c674ec907"
      },
      "execution_count": 85,
      "outputs": [
        {
          "output_type": "execute_result",
          "data": {
            "text/plain": [
              "(11106, 10)"
            ]
          },
          "metadata": {},
          "execution_count": 85
        }
      ]
    },
    {
      "cell_type": "code",
      "source": [
        "y[0,:]"
      ],
      "metadata": {
        "colab": {
          "base_uri": "https://localhost:8080/"
        },
        "id": "5BGCILBU8xNU",
        "outputId": "ba4b4411-45d0-46bd-c35f-b14f0de95953"
      },
      "execution_count": 86,
      "outputs": [
        {
          "output_type": "execute_result",
          "data": {
            "text/plain": [
              "array([0, 0, 0, 0, 0, 0, 1, 0, 0, 1])"
            ]
          },
          "metadata": {},
          "execution_count": 86
        }
      ]
    },
    {
      "cell_type": "code",
      "source": [
        "from sklearn.model_selection import train_test_split\n",
        "x_tr,x_val,y_tr,y_val=train_test_split(x, y, test_size=0.2, random_state=0,shuffle=True)"
      ],
      "metadata": {
        "id": "L9Qilgct8z0f"
      },
      "execution_count": 87,
      "outputs": []
    },
    {
      "cell_type": "markdown",
      "source": [
        "# Text Representation"
      ],
      "metadata": {
        "id": "aMQA8HOf8-3N"
      }
    },
    {
      "cell_type": "code",
      "source": [
        "from tensorflow.keras.preprocessing.text import Tokenizer\n",
        "from tensorflow.keras.preprocessing.sequence import pad_sequences\n",
        "\n",
        "#prepare a tokenizer\n",
        "x_tokenizer = Tokenizer()\n",
        "\n",
        "x_tokenizer.fit_on_texts(x_tr)"
      ],
      "metadata": {
        "id": "hnbIm_s885Y5"
      },
      "execution_count": 88,
      "outputs": []
    },
    {
      "cell_type": "code",
      "source": [
        "len(x_tokenizer.word_index)"
      ],
      "metadata": {
        "colab": {
          "base_uri": "https://localhost:8080/"
        },
        "id": "Fze_RcDB9Ete",
        "outputId": "84eebc3e-e1f6-452c-8a9d-b3bfb29a7747"
      },
      "execution_count": 89,
      "outputs": [
        {
          "output_type": "execute_result",
          "data": {
            "text/plain": [
              "25312"
            ]
          },
          "metadata": {},
          "execution_count": 89
        }
      ]
    },
    {
      "cell_type": "markdown",
      "source": [
        "There are around 25,000 tokens in the training dataset. Let's see how many tokens appear at least 5 times in the dataset."
      ],
      "metadata": {
        "id": "TWwoweMD--5g"
      }
    },
    {
      "cell_type": "code",
      "source": [
        "thresh = 3\n",
        "\n",
        "cnt=0\n",
        "for key,value in x_tokenizer.word_counts.items():\n",
        "  if value>=thresh:\n",
        "    cnt=cnt+1\n",
        "\n",
        "print(cnt)"
      ],
      "metadata": {
        "colab": {
          "base_uri": "https://localhost:8080/"
        },
        "id": "Fg-e_hEk9MhJ",
        "outputId": "0bf8d80e-3811-42e5-c555-b2c929762465"
      },
      "execution_count": 90,
      "outputs": [
        {
          "output_type": "stream",
          "name": "stdout",
          "text": [
            "12574\n"
          ]
        }
      ]
    },
    {
      "cell_type": "markdown",
      "source": [
        "Over 12,000 tokens have appeared three times or more in the training set."
      ],
      "metadata": {
        "id": "huZCr8T0_ft5"
      }
    },
    {
      "cell_type": "code",
      "source": [
        "# prepare the tokenizer again\n",
        "x_tokenizer = Tokenizer(num_words=cnt,oov_token='unk')\n",
        "\n",
        "#prepare vocabulary\n",
        "x_tokenizer.fit_on_texts(x_tr)"
      ],
      "metadata": {
        "id": "GFONwdH3_EKW"
      },
      "execution_count": 91,
      "outputs": []
    },
    {
      "cell_type": "markdown",
      "source": [
        "Now that we have encoded every token to an integer, let's convert the text sequences to integer sequences. After that we will pad the integer sequences to the maximum sequence length, i.e., 100."
      ],
      "metadata": {
        "id": "E4Bpj3lv_uTS"
      }
    },
    {
      "cell_type": "code",
      "source": [
        "# maximum sequence length allowed\n",
        "max_len = 100\n",
        "\n",
        "#convert text sequences into integer sequences\n",
        "x_tr_seq = x_tokenizer.texts_to_sequences(x_tr)\n",
        "x_val_seq = x_tokenizer.texts_to_sequences(x_val)\n",
        "\n",
        "#padding up with zero\n",
        "x_tr_seq = pad_sequences(x_tr_seq,  padding='post', maxlen=max_len)\n",
        "x_val_seq = pad_sequences(x_val_seq, padding='post', maxlen=max_len)"
      ],
      "metadata": {
        "id": "pzwDTB8t_iRQ"
      },
      "execution_count": 92,
      "outputs": []
    },
    {
      "cell_type": "markdown",
      "source": [
        "\n",
        "Since we are padding the sequences with zeros, we must increment the vocabulary size by one."
      ],
      "metadata": {
        "id": "TBKmAAkQ_0Ww"
      }
    },
    {
      "cell_type": "code",
      "source": [
        "#no. of unique words\n",
        "x_voc_size = x_tokenizer.num_words + 1\n",
        "x_voc_size"
      ],
      "metadata": {
        "colab": {
          "base_uri": "https://localhost:8080/"
        },
        "id": "81DNIFdU_pCY",
        "outputId": "f3f554ee-e749-40e0-a06e-5fbac549a85e"
      },
      "execution_count": 93,
      "outputs": [
        {
          "output_type": "execute_result",
          "data": {
            "text/plain": [
              "12575"
            ]
          },
          "metadata": {},
          "execution_count": 93
        }
      ]
    },
    {
      "cell_type": "markdown",
      "source": [
        "# Model Building\n"
      ],
      "metadata": {
        "id": "hiBcNEUR_8OA"
      }
    },
    {
      "cell_type": "code",
      "source": [
        "from keras.models import *\n",
        "from keras.layers import *\n",
        "from keras.callbacks import *"
      ],
      "metadata": {
        "id": "U_CIMj-0_25U"
      },
      "execution_count": 94,
      "outputs": []
    },
    {
      "cell_type": "code",
      "source": [
        "def create_simplernn_model(x_voc_size, max_len):\n",
        "    model = Sequential(name=\"SimpleRNN_Model\") # Naming the model is good practice\n",
        "    model.add(Embedding(x_voc_size, 50, input_shape=(max_len,), mask_zero=True))\n",
        "    model.add(SimpleRNN(128, activation='relu'))\n",
        "    model.add(Dense(128, activation='relu'))\n",
        "    model.add(Dense(10, activation='sigmoid'))\n",
        "    return model\n",
        "\n",
        "def create_lstm_model(x_voc_size, max_len):\n",
        "    model = Sequential(name=\"LSTM_Model\")\n",
        "    model.add(Embedding(x_voc_size, 50, input_shape=(max_len,), mask_zero=True))\n",
        "    model.add(LSTM(128, activation='relu'))\n",
        "    model.add(Dense(128, activation='relu'))\n",
        "    model.add(Dense(10, activation='sigmoid'))\n",
        "    return model\n",
        "\n",
        "def create_gru_model(x_voc_size, max_len):\n",
        "    model = Sequential(name=\"GRU_Model\")\n",
        "    model.add(Embedding(x_voc_size, 50, input_shape=(max_len,), mask_zero=True))\n",
        "    model.add(GRU(128, activation='relu'))\n",
        "    model.add(Dense(128, activation='relu'))\n",
        "    model.add(Dense(10, activation='sigmoid'))\n",
        "    return model\n",
        "\n",
        "# Instantiate all three models\n",
        "simplernn_model = create_simplernn_model(x_voc_size, max_len)\n",
        "lstm_model = create_lstm_model(x_voc_size, max_len)\n",
        "gru_model = create_gru_model(x_voc_size, max_len)\n",
        "\n",
        "models = [simplernn_model, lstm_model, gru_model]"
      ],
      "metadata": {
        "colab": {
          "base_uri": "https://localhost:8080/"
        },
        "id": "Ae2Y1TlzAT8v",
        "outputId": "cbcf67e3-0aef-46dc-c32f-bdbe1deea175"
      },
      "execution_count": 95,
      "outputs": [
        {
          "output_type": "stream",
          "name": "stderr",
          "text": [
            "/usr/local/lib/python3.11/dist-packages/keras/src/layers/core/embedding.py:93: UserWarning: Do not pass an `input_shape`/`input_dim` argument to a layer. When using Sequential models, prefer using an `Input(shape)` object as the first layer in the model instead.\n",
            "  super().__init__(**kwargs)\n"
          ]
        }
      ]
    },
    {
      "cell_type": "code",
      "source": [
        "for model in models:\n",
        "  model.summary()\n"
      ],
      "metadata": {
        "colab": {
          "base_uri": "https://localhost:8080/",
          "height": 782
        },
        "id": "3L683494AzFl",
        "outputId": "17ec308e-e49b-4539-c527-12be54a9e7db"
      },
      "execution_count": 96,
      "outputs": [
        {
          "output_type": "display_data",
          "data": {
            "text/plain": [
              "\u001b[1mModel: \"SimpleRNN_Model\"\u001b[0m\n"
            ],
            "text/html": [
              "<pre style=\"white-space:pre;overflow-x:auto;line-height:normal;font-family:Menlo,'DejaVu Sans Mono',consolas,'Courier New',monospace\"><span style=\"font-weight: bold\">Model: \"SimpleRNN_Model\"</span>\n",
              "</pre>\n"
            ]
          },
          "metadata": {}
        },
        {
          "output_type": "display_data",
          "data": {
            "text/plain": [
              "┏━━━━━━━━━━━━━━━━━━━━━━━━━━━━━━━━━┳━━━━━━━━━━━━━━━━━━━━━━━━┳━━━━━━━━━━━━━━━┓\n",
              "┃\u001b[1m \u001b[0m\u001b[1mLayer (type)                   \u001b[0m\u001b[1m \u001b[0m┃\u001b[1m \u001b[0m\u001b[1mOutput Shape          \u001b[0m\u001b[1m \u001b[0m┃\u001b[1m \u001b[0m\u001b[1m      Param #\u001b[0m\u001b[1m \u001b[0m┃\n",
              "┡━━━━━━━━━━━━━━━━━━━━━━━━━━━━━━━━━╇━━━━━━━━━━━━━━━━━━━━━━━━╇━━━━━━━━━━━━━━━┩\n",
              "│ embedding_4 (\u001b[38;5;33mEmbedding\u001b[0m)         │ (\u001b[38;5;45mNone\u001b[0m, \u001b[38;5;34m100\u001b[0m, \u001b[38;5;34m50\u001b[0m)        │       \u001b[38;5;34m628,750\u001b[0m │\n",
              "├─────────────────────────────────┼────────────────────────┼───────────────┤\n",
              "│ simple_rnn_2 (\u001b[38;5;33mSimpleRNN\u001b[0m)        │ (\u001b[38;5;45mNone\u001b[0m, \u001b[38;5;34m128\u001b[0m)            │        \u001b[38;5;34m22,912\u001b[0m │\n",
              "├─────────────────────────────────┼────────────────────────┼───────────────┤\n",
              "│ dense_7 (\u001b[38;5;33mDense\u001b[0m)                 │ (\u001b[38;5;45mNone\u001b[0m, \u001b[38;5;34m128\u001b[0m)            │        \u001b[38;5;34m16,512\u001b[0m │\n",
              "├─────────────────────────────────┼────────────────────────┼───────────────┤\n",
              "│ dense_8 (\u001b[38;5;33mDense\u001b[0m)                 │ (\u001b[38;5;45mNone\u001b[0m, \u001b[38;5;34m10\u001b[0m)             │         \u001b[38;5;34m1,290\u001b[0m │\n",
              "└─────────────────────────────────┴────────────────────────┴───────────────┘\n"
            ],
            "text/html": [
              "<pre style=\"white-space:pre;overflow-x:auto;line-height:normal;font-family:Menlo,'DejaVu Sans Mono',consolas,'Courier New',monospace\">┏━━━━━━━━━━━━━━━━━━━━━━━━━━━━━━━━━┳━━━━━━━━━━━━━━━━━━━━━━━━┳━━━━━━━━━━━━━━━┓\n",
              "┃<span style=\"font-weight: bold\"> Layer (type)                    </span>┃<span style=\"font-weight: bold\"> Output Shape           </span>┃<span style=\"font-weight: bold\">       Param # </span>┃\n",
              "┡━━━━━━━━━━━━━━━━━━━━━━━━━━━━━━━━━╇━━━━━━━━━━━━━━━━━━━━━━━━╇━━━━━━━━━━━━━━━┩\n",
              "│ embedding_4 (<span style=\"color: #0087ff; text-decoration-color: #0087ff\">Embedding</span>)         │ (<span style=\"color: #00d7ff; text-decoration-color: #00d7ff\">None</span>, <span style=\"color: #00af00; text-decoration-color: #00af00\">100</span>, <span style=\"color: #00af00; text-decoration-color: #00af00\">50</span>)        │       <span style=\"color: #00af00; text-decoration-color: #00af00\">628,750</span> │\n",
              "├─────────────────────────────────┼────────────────────────┼───────────────┤\n",
              "│ simple_rnn_2 (<span style=\"color: #0087ff; text-decoration-color: #0087ff\">SimpleRNN</span>)        │ (<span style=\"color: #00d7ff; text-decoration-color: #00d7ff\">None</span>, <span style=\"color: #00af00; text-decoration-color: #00af00\">128</span>)            │        <span style=\"color: #00af00; text-decoration-color: #00af00\">22,912</span> │\n",
              "├─────────────────────────────────┼────────────────────────┼───────────────┤\n",
              "│ dense_7 (<span style=\"color: #0087ff; text-decoration-color: #0087ff\">Dense</span>)                 │ (<span style=\"color: #00d7ff; text-decoration-color: #00d7ff\">None</span>, <span style=\"color: #00af00; text-decoration-color: #00af00\">128</span>)            │        <span style=\"color: #00af00; text-decoration-color: #00af00\">16,512</span> │\n",
              "├─────────────────────────────────┼────────────────────────┼───────────────┤\n",
              "│ dense_8 (<span style=\"color: #0087ff; text-decoration-color: #0087ff\">Dense</span>)                 │ (<span style=\"color: #00d7ff; text-decoration-color: #00d7ff\">None</span>, <span style=\"color: #00af00; text-decoration-color: #00af00\">10</span>)             │         <span style=\"color: #00af00; text-decoration-color: #00af00\">1,290</span> │\n",
              "└─────────────────────────────────┴────────────────────────┴───────────────┘\n",
              "</pre>\n"
            ]
          },
          "metadata": {}
        },
        {
          "output_type": "display_data",
          "data": {
            "text/plain": [
              "\u001b[1m Total params: \u001b[0m\u001b[38;5;34m669,464\u001b[0m (2.55 MB)\n"
            ],
            "text/html": [
              "<pre style=\"white-space:pre;overflow-x:auto;line-height:normal;font-family:Menlo,'DejaVu Sans Mono',consolas,'Courier New',monospace\"><span style=\"font-weight: bold\"> Total params: </span><span style=\"color: #00af00; text-decoration-color: #00af00\">669,464</span> (2.55 MB)\n",
              "</pre>\n"
            ]
          },
          "metadata": {}
        },
        {
          "output_type": "display_data",
          "data": {
            "text/plain": [
              "\u001b[1m Trainable params: \u001b[0m\u001b[38;5;34m669,464\u001b[0m (2.55 MB)\n"
            ],
            "text/html": [
              "<pre style=\"white-space:pre;overflow-x:auto;line-height:normal;font-family:Menlo,'DejaVu Sans Mono',consolas,'Courier New',monospace\"><span style=\"font-weight: bold\"> Trainable params: </span><span style=\"color: #00af00; text-decoration-color: #00af00\">669,464</span> (2.55 MB)\n",
              "</pre>\n"
            ]
          },
          "metadata": {}
        },
        {
          "output_type": "display_data",
          "data": {
            "text/plain": [
              "\u001b[1m Non-trainable params: \u001b[0m\u001b[38;5;34m0\u001b[0m (0.00 B)\n"
            ],
            "text/html": [
              "<pre style=\"white-space:pre;overflow-x:auto;line-height:normal;font-family:Menlo,'DejaVu Sans Mono',consolas,'Courier New',monospace\"><span style=\"font-weight: bold\"> Non-trainable params: </span><span style=\"color: #00af00; text-decoration-color: #00af00\">0</span> (0.00 B)\n",
              "</pre>\n"
            ]
          },
          "metadata": {}
        },
        {
          "output_type": "display_data",
          "data": {
            "text/plain": [
              "\u001b[1mModel: \"LSTM_Model\"\u001b[0m\n"
            ],
            "text/html": [
              "<pre style=\"white-space:pre;overflow-x:auto;line-height:normal;font-family:Menlo,'DejaVu Sans Mono',consolas,'Courier New',monospace\"><span style=\"font-weight: bold\">Model: \"LSTM_Model\"</span>\n",
              "</pre>\n"
            ]
          },
          "metadata": {}
        },
        {
          "output_type": "display_data",
          "data": {
            "text/plain": [
              "┏━━━━━━━━━━━━━━━━━━━━━━━━━━━━━━━━━┳━━━━━━━━━━━━━━━━━━━━━━━━┳━━━━━━━━━━━━━━━┓\n",
              "┃\u001b[1m \u001b[0m\u001b[1mLayer (type)                   \u001b[0m\u001b[1m \u001b[0m┃\u001b[1m \u001b[0m\u001b[1mOutput Shape          \u001b[0m\u001b[1m \u001b[0m┃\u001b[1m \u001b[0m\u001b[1m      Param #\u001b[0m\u001b[1m \u001b[0m┃\n",
              "┡━━━━━━━━━━━━━━━━━━━━━━━━━━━━━━━━━╇━━━━━━━━━━━━━━━━━━━━━━━━╇━━━━━━━━━━━━━━━┩\n",
              "│ embedding_5 (\u001b[38;5;33mEmbedding\u001b[0m)         │ (\u001b[38;5;45mNone\u001b[0m, \u001b[38;5;34m100\u001b[0m, \u001b[38;5;34m50\u001b[0m)        │       \u001b[38;5;34m628,750\u001b[0m │\n",
              "├─────────────────────────────────┼────────────────────────┼───────────────┤\n",
              "│ lstm_1 (\u001b[38;5;33mLSTM\u001b[0m)                   │ (\u001b[38;5;45mNone\u001b[0m, \u001b[38;5;34m128\u001b[0m)            │        \u001b[38;5;34m91,648\u001b[0m │\n",
              "├─────────────────────────────────┼────────────────────────┼───────────────┤\n",
              "│ dense_9 (\u001b[38;5;33mDense\u001b[0m)                 │ (\u001b[38;5;45mNone\u001b[0m, \u001b[38;5;34m128\u001b[0m)            │        \u001b[38;5;34m16,512\u001b[0m │\n",
              "├─────────────────────────────────┼────────────────────────┼───────────────┤\n",
              "│ dense_10 (\u001b[38;5;33mDense\u001b[0m)                │ (\u001b[38;5;45mNone\u001b[0m, \u001b[38;5;34m10\u001b[0m)             │         \u001b[38;5;34m1,290\u001b[0m │\n",
              "└─────────────────────────────────┴────────────────────────┴───────────────┘\n"
            ],
            "text/html": [
              "<pre style=\"white-space:pre;overflow-x:auto;line-height:normal;font-family:Menlo,'DejaVu Sans Mono',consolas,'Courier New',monospace\">┏━━━━━━━━━━━━━━━━━━━━━━━━━━━━━━━━━┳━━━━━━━━━━━━━━━━━━━━━━━━┳━━━━━━━━━━━━━━━┓\n",
              "┃<span style=\"font-weight: bold\"> Layer (type)                    </span>┃<span style=\"font-weight: bold\"> Output Shape           </span>┃<span style=\"font-weight: bold\">       Param # </span>┃\n",
              "┡━━━━━━━━━━━━━━━━━━━━━━━━━━━━━━━━━╇━━━━━━━━━━━━━━━━━━━━━━━━╇━━━━━━━━━━━━━━━┩\n",
              "│ embedding_5 (<span style=\"color: #0087ff; text-decoration-color: #0087ff\">Embedding</span>)         │ (<span style=\"color: #00d7ff; text-decoration-color: #00d7ff\">None</span>, <span style=\"color: #00af00; text-decoration-color: #00af00\">100</span>, <span style=\"color: #00af00; text-decoration-color: #00af00\">50</span>)        │       <span style=\"color: #00af00; text-decoration-color: #00af00\">628,750</span> │\n",
              "├─────────────────────────────────┼────────────────────────┼───────────────┤\n",
              "│ lstm_1 (<span style=\"color: #0087ff; text-decoration-color: #0087ff\">LSTM</span>)                   │ (<span style=\"color: #00d7ff; text-decoration-color: #00d7ff\">None</span>, <span style=\"color: #00af00; text-decoration-color: #00af00\">128</span>)            │        <span style=\"color: #00af00; text-decoration-color: #00af00\">91,648</span> │\n",
              "├─────────────────────────────────┼────────────────────────┼───────────────┤\n",
              "│ dense_9 (<span style=\"color: #0087ff; text-decoration-color: #0087ff\">Dense</span>)                 │ (<span style=\"color: #00d7ff; text-decoration-color: #00d7ff\">None</span>, <span style=\"color: #00af00; text-decoration-color: #00af00\">128</span>)            │        <span style=\"color: #00af00; text-decoration-color: #00af00\">16,512</span> │\n",
              "├─────────────────────────────────┼────────────────────────┼───────────────┤\n",
              "│ dense_10 (<span style=\"color: #0087ff; text-decoration-color: #0087ff\">Dense</span>)                │ (<span style=\"color: #00d7ff; text-decoration-color: #00d7ff\">None</span>, <span style=\"color: #00af00; text-decoration-color: #00af00\">10</span>)             │         <span style=\"color: #00af00; text-decoration-color: #00af00\">1,290</span> │\n",
              "└─────────────────────────────────┴────────────────────────┴───────────────┘\n",
              "</pre>\n"
            ]
          },
          "metadata": {}
        },
        {
          "output_type": "display_data",
          "data": {
            "text/plain": [
              "\u001b[1m Total params: \u001b[0m\u001b[38;5;34m738,200\u001b[0m (2.82 MB)\n"
            ],
            "text/html": [
              "<pre style=\"white-space:pre;overflow-x:auto;line-height:normal;font-family:Menlo,'DejaVu Sans Mono',consolas,'Courier New',monospace\"><span style=\"font-weight: bold\"> Total params: </span><span style=\"color: #00af00; text-decoration-color: #00af00\">738,200</span> (2.82 MB)\n",
              "</pre>\n"
            ]
          },
          "metadata": {}
        },
        {
          "output_type": "display_data",
          "data": {
            "text/plain": [
              "\u001b[1m Trainable params: \u001b[0m\u001b[38;5;34m738,200\u001b[0m (2.82 MB)\n"
            ],
            "text/html": [
              "<pre style=\"white-space:pre;overflow-x:auto;line-height:normal;font-family:Menlo,'DejaVu Sans Mono',consolas,'Courier New',monospace\"><span style=\"font-weight: bold\"> Trainable params: </span><span style=\"color: #00af00; text-decoration-color: #00af00\">738,200</span> (2.82 MB)\n",
              "</pre>\n"
            ]
          },
          "metadata": {}
        },
        {
          "output_type": "display_data",
          "data": {
            "text/plain": [
              "\u001b[1m Non-trainable params: \u001b[0m\u001b[38;5;34m0\u001b[0m (0.00 B)\n"
            ],
            "text/html": [
              "<pre style=\"white-space:pre;overflow-x:auto;line-height:normal;font-family:Menlo,'DejaVu Sans Mono',consolas,'Courier New',monospace\"><span style=\"font-weight: bold\"> Non-trainable params: </span><span style=\"color: #00af00; text-decoration-color: #00af00\">0</span> (0.00 B)\n",
              "</pre>\n"
            ]
          },
          "metadata": {}
        },
        {
          "output_type": "display_data",
          "data": {
            "text/plain": [
              "\u001b[1mModel: \"GRU_Model\"\u001b[0m\n"
            ],
            "text/html": [
              "<pre style=\"white-space:pre;overflow-x:auto;line-height:normal;font-family:Menlo,'DejaVu Sans Mono',consolas,'Courier New',monospace\"><span style=\"font-weight: bold\">Model: \"GRU_Model\"</span>\n",
              "</pre>\n"
            ]
          },
          "metadata": {}
        },
        {
          "output_type": "display_data",
          "data": {
            "text/plain": [
              "┏━━━━━━━━━━━━━━━━━━━━━━━━━━━━━━━━━┳━━━━━━━━━━━━━━━━━━━━━━━━┳━━━━━━━━━━━━━━━┓\n",
              "┃\u001b[1m \u001b[0m\u001b[1mLayer (type)                   \u001b[0m\u001b[1m \u001b[0m┃\u001b[1m \u001b[0m\u001b[1mOutput Shape          \u001b[0m\u001b[1m \u001b[0m┃\u001b[1m \u001b[0m\u001b[1m      Param #\u001b[0m\u001b[1m \u001b[0m┃\n",
              "┡━━━━━━━━━━━━━━━━━━━━━━━━━━━━━━━━━╇━━━━━━━━━━━━━━━━━━━━━━━━╇━━━━━━━━━━━━━━━┩\n",
              "│ embedding_6 (\u001b[38;5;33mEmbedding\u001b[0m)         │ (\u001b[38;5;45mNone\u001b[0m, \u001b[38;5;34m100\u001b[0m, \u001b[38;5;34m50\u001b[0m)        │       \u001b[38;5;34m628,750\u001b[0m │\n",
              "├─────────────────────────────────┼────────────────────────┼───────────────┤\n",
              "│ gru_1 (\u001b[38;5;33mGRU\u001b[0m)                     │ (\u001b[38;5;45mNone\u001b[0m, \u001b[38;5;34m128\u001b[0m)            │        \u001b[38;5;34m69,120\u001b[0m │\n",
              "├─────────────────────────────────┼────────────────────────┼───────────────┤\n",
              "│ dense_11 (\u001b[38;5;33mDense\u001b[0m)                │ (\u001b[38;5;45mNone\u001b[0m, \u001b[38;5;34m128\u001b[0m)            │        \u001b[38;5;34m16,512\u001b[0m │\n",
              "├─────────────────────────────────┼────────────────────────┼───────────────┤\n",
              "│ dense_12 (\u001b[38;5;33mDense\u001b[0m)                │ (\u001b[38;5;45mNone\u001b[0m, \u001b[38;5;34m10\u001b[0m)             │         \u001b[38;5;34m1,290\u001b[0m │\n",
              "└─────────────────────────────────┴────────────────────────┴───────────────┘\n"
            ],
            "text/html": [
              "<pre style=\"white-space:pre;overflow-x:auto;line-height:normal;font-family:Menlo,'DejaVu Sans Mono',consolas,'Courier New',monospace\">┏━━━━━━━━━━━━━━━━━━━━━━━━━━━━━━━━━┳━━━━━━━━━━━━━━━━━━━━━━━━┳━━━━━━━━━━━━━━━┓\n",
              "┃<span style=\"font-weight: bold\"> Layer (type)                    </span>┃<span style=\"font-weight: bold\"> Output Shape           </span>┃<span style=\"font-weight: bold\">       Param # </span>┃\n",
              "┡━━━━━━━━━━━━━━━━━━━━━━━━━━━━━━━━━╇━━━━━━━━━━━━━━━━━━━━━━━━╇━━━━━━━━━━━━━━━┩\n",
              "│ embedding_6 (<span style=\"color: #0087ff; text-decoration-color: #0087ff\">Embedding</span>)         │ (<span style=\"color: #00d7ff; text-decoration-color: #00d7ff\">None</span>, <span style=\"color: #00af00; text-decoration-color: #00af00\">100</span>, <span style=\"color: #00af00; text-decoration-color: #00af00\">50</span>)        │       <span style=\"color: #00af00; text-decoration-color: #00af00\">628,750</span> │\n",
              "├─────────────────────────────────┼────────────────────────┼───────────────┤\n",
              "│ gru_1 (<span style=\"color: #0087ff; text-decoration-color: #0087ff\">GRU</span>)                     │ (<span style=\"color: #00d7ff; text-decoration-color: #00d7ff\">None</span>, <span style=\"color: #00af00; text-decoration-color: #00af00\">128</span>)            │        <span style=\"color: #00af00; text-decoration-color: #00af00\">69,120</span> │\n",
              "├─────────────────────────────────┼────────────────────────┼───────────────┤\n",
              "│ dense_11 (<span style=\"color: #0087ff; text-decoration-color: #0087ff\">Dense</span>)                │ (<span style=\"color: #00d7ff; text-decoration-color: #00d7ff\">None</span>, <span style=\"color: #00af00; text-decoration-color: #00af00\">128</span>)            │        <span style=\"color: #00af00; text-decoration-color: #00af00\">16,512</span> │\n",
              "├─────────────────────────────────┼────────────────────────┼───────────────┤\n",
              "│ dense_12 (<span style=\"color: #0087ff; text-decoration-color: #0087ff\">Dense</span>)                │ (<span style=\"color: #00d7ff; text-decoration-color: #00d7ff\">None</span>, <span style=\"color: #00af00; text-decoration-color: #00af00\">10</span>)             │         <span style=\"color: #00af00; text-decoration-color: #00af00\">1,290</span> │\n",
              "└─────────────────────────────────┴────────────────────────┴───────────────┘\n",
              "</pre>\n"
            ]
          },
          "metadata": {}
        },
        {
          "output_type": "display_data",
          "data": {
            "text/plain": [
              "\u001b[1m Total params: \u001b[0m\u001b[38;5;34m715,672\u001b[0m (2.73 MB)\n"
            ],
            "text/html": [
              "<pre style=\"white-space:pre;overflow-x:auto;line-height:normal;font-family:Menlo,'DejaVu Sans Mono',consolas,'Courier New',monospace\"><span style=\"font-weight: bold\"> Total params: </span><span style=\"color: #00af00; text-decoration-color: #00af00\">715,672</span> (2.73 MB)\n",
              "</pre>\n"
            ]
          },
          "metadata": {}
        },
        {
          "output_type": "display_data",
          "data": {
            "text/plain": [
              "\u001b[1m Trainable params: \u001b[0m\u001b[38;5;34m715,672\u001b[0m (2.73 MB)\n"
            ],
            "text/html": [
              "<pre style=\"white-space:pre;overflow-x:auto;line-height:normal;font-family:Menlo,'DejaVu Sans Mono',consolas,'Courier New',monospace\"><span style=\"font-weight: bold\"> Trainable params: </span><span style=\"color: #00af00; text-decoration-color: #00af00\">715,672</span> (2.73 MB)\n",
              "</pre>\n"
            ]
          },
          "metadata": {}
        },
        {
          "output_type": "display_data",
          "data": {
            "text/plain": [
              "\u001b[1m Non-trainable params: \u001b[0m\u001b[38;5;34m0\u001b[0m (0.00 B)\n"
            ],
            "text/html": [
              "<pre style=\"white-space:pre;overflow-x:auto;line-height:normal;font-family:Menlo,'DejaVu Sans Mono',consolas,'Courier New',monospace\"><span style=\"font-weight: bold\"> Non-trainable params: </span><span style=\"color: #00af00; text-decoration-color: #00af00\">0</span> (0.00 B)\n",
              "</pre>\n"
            ]
          },
          "metadata": {}
        }
      ]
    },
    {
      "cell_type": "code",
      "source": [
        "#define optimizer and loss\n",
        "for model in models:\n",
        "  model.compile(optimizer='adam',loss='binary_crossentropy')"
      ],
      "metadata": {
        "id": "yeGQugi0A1RO"
      },
      "execution_count": 97,
      "outputs": []
    },
    {
      "cell_type": "code",
      "source": [
        "# checkpoint to save best model during training\n",
        "from tensorflow.keras.callbacks import ModelCheckpoint\n",
        "mc = ModelCheckpoint(\"weights.best.keras\", monitor='val_loss', verbose=1, save_best_only=True, mode='min')"
      ],
      "metadata": {
        "id": "piC3mATZA9np"
      },
      "execution_count": 98,
      "outputs": []
    },
    {
      "cell_type": "markdown",
      "source": [
        "# Train the Model"
      ],
      "metadata": {
        "id": "gf44qBpYBfDk"
      }
    },
    {
      "cell_type": "code",
      "source": [
        "histories = {}\n",
        "best_val_losses = {}\n",
        "for model in models:\n",
        "    print(f\"\\nTraining {model.name}...\")\n",
        "    checkpoint_path = f\"{model.name}_best_weights.keras\"\n",
        "    mc = ModelCheckpoint(checkpoint_path, monitor='val_loss', verbose=1, save_best_only=True, mode='min')\n",
        "\n",
        "    start_time = time.time()\n",
        "    history = model.fit(\n",
        "        x_tr_seq, y_tr,\n",
        "        epochs=10,\n",
        "        batch_size=128,\n",
        "        validation_data=(x_val_seq, y_val),\n",
        "        callbacks=[mc],\n",
        "        verbose=1\n",
        "    )\n",
        "    end_time = time.time()\n",
        "\n",
        "    histories[model.name] = {\n",
        "        'history': history,\n",
        "        'training_time': end_time - start_time\n",
        "    }\n",
        "\n",
        "    best_val_loss = min(history.history['val_loss'])\n",
        "    best_val_losses[model.name] = {\n",
        "        'loss': best_val_loss,\n",
        "        'weights': checkpoint_path\n",
        "    }"
      ],
      "metadata": {
        "colab": {
          "base_uri": "https://localhost:8080/"
        },
        "id": "QRp4taQcBBsR",
        "outputId": "8508e386-0caa-4dd5-fed9-368715ce123c"
      },
      "execution_count": 100,
      "outputs": [
        {
          "output_type": "stream",
          "name": "stdout",
          "text": [
            "\n",
            "Training SimpleRNN_Model...\n",
            "Epoch 1/10\n",
            "\u001b[1m68/70\u001b[0m \u001b[32m━━━━━━━━━━━━━━━━━━━\u001b[0m\u001b[37m━\u001b[0m \u001b[1m0s\u001b[0m 12ms/step - loss: 0.2226\n",
            "Epoch 1: val_loss improved from inf to 0.47562, saving model to SimpleRNN_Model_best_weights.keras\n",
            "\u001b[1m70/70\u001b[0m \u001b[32m━━━━━━━━━━━━━━━━━━━━\u001b[0m\u001b[37m\u001b[0m \u001b[1m1s\u001b[0m 16ms/step - loss: 0.2229 - val_loss: 0.4756\n",
            "Epoch 2/10\n",
            "\u001b[1m65/70\u001b[0m \u001b[32m━━━━━━━━━━━━━━━━━━\u001b[0m\u001b[37m━━\u001b[0m \u001b[1m0s\u001b[0m 10ms/step - loss: 0.2134\n",
            "Epoch 2: val_loss did not improve from 0.47562\n",
            "\u001b[1m70/70\u001b[0m \u001b[32m━━━━━━━━━━━━━━━━━━━━\u001b[0m\u001b[37m\u001b[0m \u001b[1m1s\u001b[0m 12ms/step - loss: 0.2130 - val_loss: 0.4758\n",
            "Epoch 3/10\n",
            "\u001b[1m66/70\u001b[0m \u001b[32m━━━━━━━━━━━━━━━━━━\u001b[0m\u001b[37m━━\u001b[0m \u001b[1m0s\u001b[0m 10ms/step - loss: 0.1889\n",
            "Epoch 3: val_loss did not improve from 0.47562\n",
            "\u001b[1m70/70\u001b[0m \u001b[32m━━━━━━━━━━━━━━━━━━━━\u001b[0m\u001b[37m\u001b[0m \u001b[1m1s\u001b[0m 11ms/step - loss: 0.1890 - val_loss: 0.4899\n",
            "Epoch 4/10\n",
            "\u001b[1m66/70\u001b[0m \u001b[32m━━━━━━━━━━━━━━━━━━\u001b[0m\u001b[37m━━\u001b[0m \u001b[1m0s\u001b[0m 10ms/step - loss: 0.1719\n",
            "Epoch 4: val_loss did not improve from 0.47562\n",
            "\u001b[1m70/70\u001b[0m \u001b[32m━━━━━━━━━━━━━━━━━━━━\u001b[0m\u001b[37m\u001b[0m \u001b[1m1s\u001b[0m 11ms/step - loss: 0.1720 - val_loss: 0.5381\n",
            "Epoch 5/10\n",
            "\u001b[1m66/70\u001b[0m \u001b[32m━━━━━━━━━━━━━━━━━━\u001b[0m\u001b[37m━━\u001b[0m \u001b[1m0s\u001b[0m 10ms/step - loss: 0.1496\n",
            "Epoch 5: val_loss did not improve from 0.47562\n",
            "\u001b[1m70/70\u001b[0m \u001b[32m━━━━━━━━━━━━━━━━━━━━\u001b[0m\u001b[37m\u001b[0m \u001b[1m1s\u001b[0m 11ms/step - loss: 0.1496 - val_loss: 0.5574\n",
            "Epoch 6/10\n",
            "\u001b[1m66/70\u001b[0m \u001b[32m━━━━━━━━━━━━━━━━━━\u001b[0m\u001b[37m━━\u001b[0m \u001b[1m0s\u001b[0m 10ms/step - loss: 0.1413\n",
            "Epoch 6: val_loss did not improve from 0.47562\n",
            "\u001b[1m70/70\u001b[0m \u001b[32m━━━━━━━━━━━━━━━━━━━━\u001b[0m\u001b[37m\u001b[0m \u001b[1m1s\u001b[0m 12ms/step - loss: 0.1410 - val_loss: 0.6090\n",
            "Epoch 7/10\n",
            "\u001b[1m67/70\u001b[0m \u001b[32m━━━━━━━━━━━━━━━━━━━\u001b[0m\u001b[37m━\u001b[0m \u001b[1m0s\u001b[0m 10ms/step - loss: 0.1291\n",
            "Epoch 7: val_loss did not improve from 0.47562\n",
            "\u001b[1m70/70\u001b[0m \u001b[32m━━━━━━━━━━━━━━━━━━━━\u001b[0m\u001b[37m\u001b[0m \u001b[1m1s\u001b[0m 11ms/step - loss: 0.1303 - val_loss: 0.5620\n",
            "Epoch 8/10\n",
            "\u001b[1m67/70\u001b[0m \u001b[32m━━━━━━━━━━━━━━━━━━━\u001b[0m\u001b[37m━\u001b[0m \u001b[1m0s\u001b[0m 10ms/step - loss: 0.1801\n",
            "Epoch 8: val_loss did not improve from 0.47562\n",
            "\u001b[1m70/70\u001b[0m \u001b[32m━━━━━━━━━━━━━━━━━━━━\u001b[0m\u001b[37m\u001b[0m \u001b[1m1s\u001b[0m 11ms/step - loss: 0.1790 - val_loss: 0.7185\n",
            "Epoch 9/10\n",
            "\u001b[1m66/70\u001b[0m \u001b[32m━━━━━━━━━━━━━━━━━━\u001b[0m\u001b[37m━━\u001b[0m \u001b[1m0s\u001b[0m 10ms/step - loss: 0.1325\n",
            "Epoch 9: val_loss did not improve from 0.47562\n",
            "\u001b[1m70/70\u001b[0m \u001b[32m━━━━━━━━━━━━━━━━━━━━\u001b[0m\u001b[37m\u001b[0m \u001b[1m1s\u001b[0m 12ms/step - loss: 0.1320 - val_loss: 0.6753\n",
            "Epoch 10/10\n",
            "\u001b[1m67/70\u001b[0m \u001b[32m━━━━━━━━━━━━━━━━━━━\u001b[0m\u001b[37m━\u001b[0m \u001b[1m0s\u001b[0m 10ms/step - loss: 0.0972\n",
            "Epoch 10: val_loss did not improve from 0.47562\n",
            "\u001b[1m70/70\u001b[0m \u001b[32m━━━━━━━━━━━━━━━━━━━━\u001b[0m\u001b[37m\u001b[0m \u001b[1m1s\u001b[0m 12ms/step - loss: 0.0974 - val_loss: 0.7164\n",
            "\n",
            "Training LSTM_Model...\n",
            "Epoch 1/10\n",
            "\u001b[1m70/70\u001b[0m \u001b[32m━━━━━━━━━━━━━━━━━━━━\u001b[0m\u001b[37m\u001b[0m \u001b[1m0s\u001b[0m 34ms/step - loss: 1352.1812\n",
            "Epoch 1: val_loss improved from inf to 0.59592, saving model to LSTM_Model_best_weights.keras\n",
            "\u001b[1m70/70\u001b[0m \u001b[32m━━━━━━━━━━━━━━━━━━━━\u001b[0m\u001b[37m\u001b[0m \u001b[1m9s\u001b[0m 58ms/step - loss: 1345.8207 - val_loss: 0.5959\n",
            "Epoch 2/10\n",
            "\u001b[1m68/70\u001b[0m \u001b[32m━━━━━━━━━━━━━━━━━━━\u001b[0m\u001b[37m━\u001b[0m \u001b[1m0s\u001b[0m 16ms/step - loss: 0.5739\n",
            "Epoch 2: val_loss improved from 0.59592 to 0.51099, saving model to LSTM_Model_best_weights.keras\n",
            "\u001b[1m70/70\u001b[0m \u001b[32m━━━━━━━━━━━━━━━━━━━━\u001b[0m\u001b[37m\u001b[0m \u001b[1m1s\u001b[0m 19ms/step - loss: 0.5729 - val_loss: 0.5110\n",
            "Epoch 3/10\n",
            "\u001b[1m69/70\u001b[0m \u001b[32m━━━━━━━━━━━━━━━━━━━\u001b[0m\u001b[37m━\u001b[0m \u001b[1m0s\u001b[0m 14ms/step - loss: 0.4993\n",
            "Epoch 3: val_loss improved from 0.51099 to 0.48470, saving model to LSTM_Model_best_weights.keras\n",
            "\u001b[1m70/70\u001b[0m \u001b[32m━━━━━━━━━━━━━━━━━━━━\u001b[0m\u001b[37m\u001b[0m \u001b[1m2s\u001b[0m 16ms/step - loss: 0.4992 - val_loss: 0.4847\n",
            "Epoch 4/10\n",
            "\u001b[1m69/70\u001b[0m \u001b[32m━━━━━━━━━━━━━━━━━━━\u001b[0m\u001b[37m━\u001b[0m \u001b[1m0s\u001b[0m 14ms/step - loss: 0.4840\n",
            "Epoch 4: val_loss improved from 0.48470 to 0.48300, saving model to LSTM_Model_best_weights.keras\n",
            "\u001b[1m70/70\u001b[0m \u001b[32m━━━━━━━━━━━━━━━━━━━━\u001b[0m\u001b[37m\u001b[0m \u001b[1m1s\u001b[0m 17ms/step - loss: 0.4840 - val_loss: 0.4830\n",
            "Epoch 5/10\n",
            "\u001b[1m69/70\u001b[0m \u001b[32m━━━━━━━━━━━━━━━━━━━\u001b[0m\u001b[37m━\u001b[0m \u001b[1m0s\u001b[0m 14ms/step - loss: 0.4807\n",
            "Epoch 5: val_loss improved from 0.48300 to 0.48286, saving model to LSTM_Model_best_weights.keras\n",
            "\u001b[1m70/70\u001b[0m \u001b[32m━━━━━━━━━━━━━━━━━━━━\u001b[0m\u001b[37m\u001b[0m \u001b[1m1s\u001b[0m 20ms/step - loss: 0.4807 - val_loss: 0.4829\n",
            "Epoch 6/10\n",
            "\u001b[1m69/70\u001b[0m \u001b[32m━━━━━━━━━━━━━━━━━━━\u001b[0m\u001b[37m━\u001b[0m \u001b[1m0s\u001b[0m 15ms/step - loss: 0.4822\n",
            "Epoch 6: val_loss improved from 0.48286 to 0.48274, saving model to LSTM_Model_best_weights.keras\n",
            "\u001b[1m70/70\u001b[0m \u001b[32m━━━━━━━━━━━━━━━━━━━━\u001b[0m\u001b[37m\u001b[0m \u001b[1m2s\u001b[0m 18ms/step - loss: 0.4822 - val_loss: 0.4827\n",
            "Epoch 7/10\n",
            "\u001b[1m69/70\u001b[0m \u001b[32m━━━━━━━━━━━━━━━━━━━\u001b[0m\u001b[37m━\u001b[0m \u001b[1m0s\u001b[0m 14ms/step - loss: 0.4830\n",
            "Epoch 7: val_loss improved from 0.48274 to 0.48261, saving model to LSTM_Model_best_weights.keras\n",
            "\u001b[1m70/70\u001b[0m \u001b[32m━━━━━━━━━━━━━━━━━━━━\u001b[0m\u001b[37m\u001b[0m \u001b[1m2s\u001b[0m 17ms/step - loss: 0.4829 - val_loss: 0.4826\n",
            "Epoch 8/10\n",
            "\u001b[1m67/70\u001b[0m \u001b[32m━━━━━━━━━━━━━━━━━━━\u001b[0m\u001b[37m━\u001b[0m \u001b[1m0s\u001b[0m 15ms/step - loss: 0.4814\n",
            "Epoch 8: val_loss improved from 0.48261 to 0.48248, saving model to LSTM_Model_best_weights.keras\n",
            "\u001b[1m70/70\u001b[0m \u001b[32m━━━━━━━━━━━━━━━━━━━━\u001b[0m\u001b[37m\u001b[0m \u001b[1m2s\u001b[0m 21ms/step - loss: 0.4813 - val_loss: 0.4825\n",
            "Epoch 9/10\n",
            "\u001b[1m68/70\u001b[0m \u001b[32m━━━━━━━━━━━━━━━━━━━\u001b[0m\u001b[37m━\u001b[0m \u001b[1m0s\u001b[0m 14ms/step - loss: 0.4779\n",
            "Epoch 9: val_loss improved from 0.48248 to 0.48236, saving model to LSTM_Model_best_weights.keras\n",
            "\u001b[1m70/70\u001b[0m \u001b[32m━━━━━━━━━━━━━━━━━━━━\u001b[0m\u001b[37m\u001b[0m \u001b[1m1s\u001b[0m 17ms/step - loss: 0.4780 - val_loss: 0.4824\n",
            "Epoch 10/10\n",
            "\u001b[1m69/70\u001b[0m \u001b[32m━━━━━━━━━━━━━━━━━━━\u001b[0m\u001b[37m━\u001b[0m \u001b[1m0s\u001b[0m 14ms/step - loss: 0.4788\n",
            "Epoch 10: val_loss improved from 0.48236 to 0.48213, saving model to LSTM_Model_best_weights.keras\n",
            "\u001b[1m70/70\u001b[0m \u001b[32m━━━━━━━━━━━━━━━━━━━━\u001b[0m\u001b[37m\u001b[0m \u001b[1m1s\u001b[0m 17ms/step - loss: 0.4788 - val_loss: 0.4821\n",
            "\n",
            "Training GRU_Model...\n",
            "Epoch 1/10\n",
            "\u001b[1m70/70\u001b[0m \u001b[32m━━━━━━━━━━━━━━━━━━━━\u001b[0m\u001b[37m\u001b[0m \u001b[1m0s\u001b[0m 36ms/step - loss: 0.6032\n",
            "Epoch 1: val_loss improved from inf to 0.48153, saving model to GRU_Model_best_weights.keras\n",
            "\u001b[1m70/70\u001b[0m \u001b[32m━━━━━━━━━━━━━━━━━━━━\u001b[0m\u001b[37m\u001b[0m \u001b[1m10s\u001b[0m 60ms/step - loss: 0.6023 - val_loss: 0.4815\n",
            "Epoch 2/10\n",
            "\u001b[1m67/70\u001b[0m \u001b[32m━━━━━━━━━━━━━━━━━━━\u001b[0m\u001b[37m━\u001b[0m \u001b[1m0s\u001b[0m 16ms/step - loss: 0.4788\n",
            "Epoch 2: val_loss improved from 0.48153 to 0.47774, saving model to GRU_Model_best_weights.keras\n",
            "\u001b[1m70/70\u001b[0m \u001b[32m━━━━━━━━━━━━━━━━━━━━\u001b[0m\u001b[37m\u001b[0m \u001b[1m6s\u001b[0m 19ms/step - loss: 0.4788 - val_loss: 0.4777\n",
            "Epoch 3/10\n",
            "\u001b[1m69/70\u001b[0m \u001b[32m━━━━━━━━━━━━━━━━━━━\u001b[0m\u001b[37m━\u001b[0m \u001b[1m0s\u001b[0m 15ms/step - loss: 0.4687\n",
            "Epoch 3: val_loss improved from 0.47774 to 0.44423, saving model to GRU_Model_best_weights.keras\n",
            "\u001b[1m70/70\u001b[0m \u001b[32m━━━━━━━━━━━━━━━━━━━━\u001b[0m\u001b[37m\u001b[0m \u001b[1m3s\u001b[0m 19ms/step - loss: 0.4686 - val_loss: 0.4442\n",
            "Epoch 4/10\n",
            "\u001b[1m69/70\u001b[0m \u001b[32m━━━━━━━━━━━━━━━━━━━\u001b[0m\u001b[37m━\u001b[0m \u001b[1m0s\u001b[0m 15ms/step - loss: 0.4221\n",
            "Epoch 4: val_loss improved from 0.44423 to 0.41969, saving model to GRU_Model_best_weights.keras\n",
            "\u001b[1m70/70\u001b[0m \u001b[32m━━━━━━━━━━━━━━━━━━━━\u001b[0m\u001b[37m\u001b[0m \u001b[1m1s\u001b[0m 19ms/step - loss: 0.4218 - val_loss: 0.4197\n",
            "Epoch 5/10\n",
            "\u001b[1m69/70\u001b[0m \u001b[32m━━━━━━━━━━━━━━━━━━━\u001b[0m\u001b[37m━\u001b[0m \u001b[1m0s\u001b[0m 15ms/step - loss: 0.3919\n",
            "Epoch 5: val_loss improved from 0.41969 to 0.40046, saving model to GRU_Model_best_weights.keras\n",
            "\u001b[1m70/70\u001b[0m \u001b[32m━━━━━━━━━━━━━━━━━━━━\u001b[0m\u001b[37m\u001b[0m \u001b[1m1s\u001b[0m 18ms/step - loss: 0.3918 - val_loss: 0.4005\n",
            "Epoch 6/10\n",
            "\u001b[1m69/70\u001b[0m \u001b[32m━━━━━━━━━━━━━━━━━━━\u001b[0m\u001b[37m━\u001b[0m \u001b[1m0s\u001b[0m 14ms/step - loss: 0.3514\n",
            "Epoch 6: val_loss improved from 0.40046 to 0.36335, saving model to GRU_Model_best_weights.keras\n",
            "\u001b[1m70/70\u001b[0m \u001b[32m━━━━━━━━━━━━━━━━━━━━\u001b[0m\u001b[37m\u001b[0m \u001b[1m2s\u001b[0m 17ms/step - loss: 0.3513 - val_loss: 0.3633\n",
            "Epoch 7/10\n",
            "\u001b[1m69/70\u001b[0m \u001b[32m━━━━━━━━━━━━━━━━━━━\u001b[0m\u001b[37m━\u001b[0m \u001b[1m0s\u001b[0m 14ms/step - loss: 0.3148\n",
            "Epoch 7: val_loss improved from 0.36335 to 0.35311, saving model to GRU_Model_best_weights.keras\n",
            "\u001b[1m70/70\u001b[0m \u001b[32m━━━━━━━━━━━━━━━━━━━━\u001b[0m\u001b[37m\u001b[0m \u001b[1m1s\u001b[0m 17ms/step - loss: 0.3147 - val_loss: 0.3531\n",
            "Epoch 8/10\n",
            "\u001b[1m69/70\u001b[0m \u001b[32m━━━━━━━━━━━━━━━━━━━\u001b[0m\u001b[37m━\u001b[0m \u001b[1m0s\u001b[0m 14ms/step - loss: 0.2913\n",
            "Epoch 8: val_loss improved from 0.35311 to 0.34592, saving model to GRU_Model_best_weights.keras\n",
            "\u001b[1m70/70\u001b[0m \u001b[32m━━━━━━━━━━━━━━━━━━━━\u001b[0m\u001b[37m\u001b[0m \u001b[1m1s\u001b[0m 17ms/step - loss: 0.2911 - val_loss: 0.3459\n",
            "Epoch 9/10\n",
            "\u001b[1m69/70\u001b[0m \u001b[32m━━━━━━━━━━━━━━━━━━━\u001b[0m\u001b[37m━\u001b[0m \u001b[1m0s\u001b[0m 14ms/step - loss: 0.2618\n",
            "Epoch 9: val_loss did not improve from 0.34592\n",
            "\u001b[1m70/70\u001b[0m \u001b[32m━━━━━━━━━━━━━━━━━━━━\u001b[0m\u001b[37m\u001b[0m \u001b[1m1s\u001b[0m 16ms/step - loss: 0.2617 - val_loss: 0.3490\n",
            "Epoch 10/10\n",
            "\u001b[1m69/70\u001b[0m \u001b[32m━━━━━━━━━━━━━━━━━━━\u001b[0m\u001b[37m━\u001b[0m \u001b[1m0s\u001b[0m 14ms/step - loss: 0.2390\n",
            "Epoch 10: val_loss did not improve from 0.34592\n",
            "\u001b[1m70/70\u001b[0m \u001b[32m━━━━━━━━━━━━━━━━━━━━\u001b[0m\u001b[37m\u001b[0m \u001b[1m1s\u001b[0m 17ms/step - loss: 0.2390 - val_loss: 0.3570\n"
          ]
        }
      ]
    },
    {
      "cell_type": "markdown",
      "source": [
        "# Model Predictions\n"
      ],
      "metadata": {
        "id": "oJ6rieVABrbc"
      }
    },
    {
      "cell_type": "code",
      "source": [
        "# Find the model with the lowest validation loss\n",
        "best_model_name = min(best_val_losses, key=lambda k: best_val_losses[k]['loss'])\n",
        "best_weights_path = best_val_losses[best_model_name]['weights']\n",
        "print(f\"\\nBest model: {best_model_name} with validation loss: {best_val_losses[best_model_name]['loss']}\")\n",
        "\n",
        "# Load the best model structure and weights\n",
        "if best_model_name == \"SimpleRNN_Model\":\n",
        "    best_model = create_simplernn_model(x_voc_size, max_len)\n",
        "elif best_model_name == \"LSTM_Model\":\n",
        "    best_model = create_lstm_model(x_voc_size, max_len)\n",
        "else:\n",
        "    best_model = create_gru_model(x_voc_size, max_len)\n",
        "\n",
        "best_model.load_weights(best_weights_path)\n",
        "print(f\"Loaded best weights into {best_model_name}.\")\n",
        "\n",
        "# Predict using the best model\n",
        "pred_prob = best_model.predict(x_val_seq)"
      ],
      "metadata": {
        "colab": {
          "base_uri": "https://localhost:8080/"
        },
        "id": "YtH4PJaEBb3B",
        "outputId": "bb5860eb-4690-46c7-81e3-9651af8341a5"
      },
      "execution_count": 101,
      "outputs": [
        {
          "output_type": "stream",
          "name": "stdout",
          "text": [
            "\n",
            "Best model: GRU_Model with validation loss: 0.3459194600582123\n",
            "Loaded best weights into GRU_Model.\n",
            "\u001b[1m70/70\u001b[0m \u001b[32m━━━━━━━━━━━━━━━━━━━━\u001b[0m\u001b[37m\u001b[0m \u001b[1m1s\u001b[0m 11ms/step\n"
          ]
        }
      ]
    },
    {
      "cell_type": "code",
      "source": [
        "pred_prob[0]"
      ],
      "metadata": {
        "colab": {
          "base_uri": "https://localhost:8080/"
        },
        "id": "Ue4lj8TZCTAk",
        "outputId": "bc58d1dc-5653-43e9-b9b2-e2549940b56c"
      },
      "execution_count": 102,
      "outputs": [
        {
          "output_type": "execute_result",
          "data": {
            "text/plain": [
              "array([0.00922482, 0.01939741, 0.04479589, 0.16451098, 0.07125839,\n",
              "       0.00337581, 0.84735906, 0.52113706, 0.02138527, 0.29382733],\n",
              "      dtype=float32)"
            ]
          },
          "metadata": {},
          "execution_count": 102
        }
      ]
    },
    {
      "cell_type": "markdown",
      "source": [
        "The predictions are in terms of probabilities for each of the 10 tags. Hence we need to have a threshold value to convert these probabilities to 0 or 1.\n",
        "\n",
        "Let's specify a set of candidate threshold values. We will select the threshold value that performs the best for the validation set."
      ],
      "metadata": {
        "id": "sj-uckoACg_L"
      }
    },
    {
      "cell_type": "code",
      "source": [
        "#define candidate threshold values\n",
        "import numpy as np\n",
        "threshold  = np.arange(0,0.5,0.01)\n",
        "threshold"
      ],
      "metadata": {
        "colab": {
          "base_uri": "https://localhost:8080/"
        },
        "id": "-hVpR0FJCgIF",
        "outputId": "5217820c-4414-4b96-fcfb-2a366f3a57b0"
      },
      "execution_count": 103,
      "outputs": [
        {
          "output_type": "execute_result",
          "data": {
            "text/plain": [
              "array([0.  , 0.01, 0.02, 0.03, 0.04, 0.05, 0.06, 0.07, 0.08, 0.09, 0.1 ,\n",
              "       0.11, 0.12, 0.13, 0.14, 0.15, 0.16, 0.17, 0.18, 0.19, 0.2 , 0.21,\n",
              "       0.22, 0.23, 0.24, 0.25, 0.26, 0.27, 0.28, 0.29, 0.3 , 0.31, 0.32,\n",
              "       0.33, 0.34, 0.35, 0.36, 0.37, 0.38, 0.39, 0.4 , 0.41, 0.42, 0.43,\n",
              "       0.44, 0.45, 0.46, 0.47, 0.48, 0.49])"
            ]
          },
          "metadata": {},
          "execution_count": 103
        }
      ]
    },
    {
      "cell_type": "markdown",
      "source": [
        "Let's define a function that takes a threshold value and uses it to convert probabilities into 1 or 0."
      ],
      "metadata": {
        "id": "pYo28zi4DRFy"
      }
    },
    {
      "cell_type": "code",
      "source": [
        "# convert probabilities into classes or tags based on a threshold value\n",
        "def classify(pred_prob,thresh):\n",
        "  y_pred_seq = []\n",
        "\n",
        "  for i in pred_prob:\n",
        "    temp=[]\n",
        "    for j in i:\n",
        "      if j>=thresh:\n",
        "        temp.append(1)\n",
        "      else:\n",
        "        temp.append(0)\n",
        "    y_pred_seq.append(temp)\n",
        "\n",
        "  return y_pred_seq\n"
      ],
      "metadata": {
        "id": "sR1sL91iCpsT"
      },
      "execution_count": 104,
      "outputs": []
    },
    {
      "cell_type": "code",
      "source": [
        "from sklearn import metrics\n",
        "score=[]\n",
        "\n",
        "#convert to 1 array\n",
        "y_true = np.array(y_val).ravel()\n",
        "\n",
        "for thresh in threshold:\n",
        "\n",
        "    #classes for each threshold\n",
        "    y_pred_seq = classify(pred_prob,thresh)\n",
        "\n",
        "    #convert to 1d array\n",
        "    y_pred = np.array(y_pred_seq).ravel()\n",
        "\n",
        "    score.append(metrics.f1_score(y_true,y_pred))"
      ],
      "metadata": {
        "id": "buBmW7mcDcB4"
      },
      "execution_count": 105,
      "outputs": []
    },
    {
      "cell_type": "markdown",
      "source": [
        "# Model Evaluation"
      ],
      "metadata": {
        "id": "l8WP0bnHDbuu"
      }
    },
    {
      "cell_type": "code",
      "source": [
        "#predictions for optimal threshold\n",
        "y_pred_seq = classify(pred_prob,opt)\n",
        "y_pred = np.array(y_pred_seq).ravel()"
      ],
      "metadata": {
        "id": "on14EuCxDnn2"
      },
      "execution_count": 107,
      "outputs": []
    },
    {
      "cell_type": "code",
      "source": [
        "score.append(metrics.f1_score(y_true,y_pred))"
      ],
      "metadata": {
        "id": "g6ywKnAVEzSI"
      },
      "execution_count": 108,
      "outputs": []
    },
    {
      "cell_type": "code",
      "source": [
        "opt = threshold[score.index(max(score))]\n",
        "opt"
      ],
      "metadata": {
        "colab": {
          "base_uri": "https://localhost:8080/"
        },
        "id": "a6aHWoKME_S0",
        "outputId": "3666898a-a803-477e-e59f-3d0d682f5765"
      },
      "execution_count": 109,
      "outputs": [
        {
          "output_type": "execute_result",
          "data": {
            "text/plain": [
              "np.float64(0.37)"
            ]
          },
          "metadata": {},
          "execution_count": 109
        }
      ]
    },
    {
      "cell_type": "code",
      "source": [
        "print(metrics.classification_report(y_true,y_pred))"
      ],
      "metadata": {
        "colab": {
          "base_uri": "https://localhost:8080/"
        },
        "id": "At-KT-ZaDsPV",
        "outputId": "6b8bbb4b-2ae9-4a80-968f-9f1de42c79e3"
      },
      "execution_count": 110,
      "outputs": [
        {
          "output_type": "stream",
          "name": "stdout",
          "text": [
            "              precision    recall  f1-score   support\n",
            "\n",
            "           0       0.91      0.89      0.90     17520\n",
            "           1       0.62      0.66      0.64      4700\n",
            "\n",
            "    accuracy                           0.84     22220\n",
            "   macro avg       0.76      0.77      0.77     22220\n",
            "weighted avg       0.85      0.84      0.84     22220\n",
            "\n"
          ]
        }
      ]
    },
    {
      "cell_type": "code",
      "source": [
        "y_pred = mlb.inverse_transform(np.array(y_pred_seq))\n",
        "y_true = mlb.inverse_transform(np.array(y_val))\n",
        "\n",
        "df = pd.DataFrame({'comment':x_val,'actual':y_true,'predictions':y_pred})"
      ],
      "metadata": {
        "id": "n5W2FEkHDuNp"
      },
      "execution_count": 111,
      "outputs": []
    },
    {
      "cell_type": "code",
      "source": [
        "df.sample(10)"
      ],
      "metadata": {
        "colab": {
          "base_uri": "https://localhost:8080/",
          "height": 537
        },
        "id": "c9EKA4YvEqvu",
        "outputId": "59d7ec46-9158-4b24-baa4-a1bb83fa0e11"
      },
      "execution_count": 112,
      "outputs": [
        {
          "output_type": "execute_result",
          "data": {
            "text/plain": [
              "                                                                                                                                                                                                      comment  \\\n",
              "2148  i have million financial time series data minute data each minute sample data point i want to find the causality in real time like if someone give me a data point how i know that one point is caus...   \n",
              "835   i have data that includes clicks spend signups and date for week i turn off advertising spend to see what clicks and signups are the next week i turn advertising back on to see what the new clicks...   \n",
              "1947  there is quite some content online interpreting odds in a logistic model with a dichotomous predictor my problem is understanding coefficients when there are more than levels for a categorical var...   \n",
              "1150  i am currently attempting to model student achievement using both categorical mostly demographic factors and numerical exam scores data i am specifically looking for an explanation of the observed...   \n",
              "283   i am trying to fit a generalized logistic function to a dataset and am having trouble computing the partial derivatives with respect to each of the variables my cost function is as follows j theta...   \n",
              "848   in model output first i have got significant varaibles later after i tried to predict marginal effect all variables become insignificant what is problem with my step and does it affect my interpre...   \n",
              "1883  i have a doubt about use of linear regression if the correlation between two variables is is there any use of applying linear regression on those variables if possible can you explain when we shou...   \n",
              "1417  we have n realisations of five individual iid random variables x x x x and x we define another random variable s x x x x x now for a given s generated from the same process the individual componen...   \n",
              "1955  a quality characteristic of a product is normally distributed with mean and stdev specs on the characteristic are x a unit that falls with spec results in profit c if x profit is c if x profit is ...   \n",
              "1828  i ve implemented knn algorithm in python and now i am testing it on iris data set i have two questions the performance seems to be bad if i run the program times and then calculate the average acc...   \n",
              "\n",
              "                                  actual  \\\n",
              "2148                    (r, time series)   \n",
              "835         (r, regression, time series)   \n",
              "1947              (logistic, regression)   \n",
              "1150                     (r, regression)   \n",
              "283               (logistic, regression)   \n",
              "848               (logistic, regression)   \n",
              "1883                     (r, regression)   \n",
              "1417     (machine learning, probability)   \n",
              "1955           (probability, self study)   \n",
              "1828  (classification, machine learning)   \n",
              "\n",
              "                                   predictions  \n",
              "2148                          (r, time series)  \n",
              "835                              (regression,)  \n",
              "1947                 (logistic, r, regression)  \n",
              "1150              (r, regression, time series)  \n",
              "283               (distributions, probability)  \n",
              "848             (machine learning, regression)  \n",
              "1883                             (regression,)  \n",
              "1417  (distributions, probability, self study)  \n",
              "1955  (distributions, probability, self study)  \n",
              "1828     (classification, machine learning, r)  "
            ],
            "text/html": [
              "\n",
              "  <div id=\"df-31f4025c-2941-47e7-a28f-064da9e07aba\" class=\"colab-df-container\">\n",
              "    <div>\n",
              "<style scoped>\n",
              "    .dataframe tbody tr th:only-of-type {\n",
              "        vertical-align: middle;\n",
              "    }\n",
              "\n",
              "    .dataframe tbody tr th {\n",
              "        vertical-align: top;\n",
              "    }\n",
              "\n",
              "    .dataframe thead th {\n",
              "        text-align: right;\n",
              "    }\n",
              "</style>\n",
              "<table border=\"1\" class=\"dataframe\">\n",
              "  <thead>\n",
              "    <tr style=\"text-align: right;\">\n",
              "      <th></th>\n",
              "      <th>comment</th>\n",
              "      <th>actual</th>\n",
              "      <th>predictions</th>\n",
              "    </tr>\n",
              "  </thead>\n",
              "  <tbody>\n",
              "    <tr>\n",
              "      <th>2148</th>\n",
              "      <td>i have million financial time series data minute data each minute sample data point i want to find the causality in real time like if someone give me a data point how i know that one point is caus...</td>\n",
              "      <td>(r, time series)</td>\n",
              "      <td>(r, time series)</td>\n",
              "    </tr>\n",
              "    <tr>\n",
              "      <th>835</th>\n",
              "      <td>i have data that includes clicks spend signups and date for week i turn off advertising spend to see what clicks and signups are the next week i turn advertising back on to see what the new clicks...</td>\n",
              "      <td>(r, regression, time series)</td>\n",
              "      <td>(regression,)</td>\n",
              "    </tr>\n",
              "    <tr>\n",
              "      <th>1947</th>\n",
              "      <td>there is quite some content online interpreting odds in a logistic model with a dichotomous predictor my problem is understanding coefficients when there are more than levels for a categorical var...</td>\n",
              "      <td>(logistic, regression)</td>\n",
              "      <td>(logistic, r, regression)</td>\n",
              "    </tr>\n",
              "    <tr>\n",
              "      <th>1150</th>\n",
              "      <td>i am currently attempting to model student achievement using both categorical mostly demographic factors and numerical exam scores data i am specifically looking for an explanation of the observed...</td>\n",
              "      <td>(r, regression)</td>\n",
              "      <td>(r, regression, time series)</td>\n",
              "    </tr>\n",
              "    <tr>\n",
              "      <th>283</th>\n",
              "      <td>i am trying to fit a generalized logistic function to a dataset and am having trouble computing the partial derivatives with respect to each of the variables my cost function is as follows j theta...</td>\n",
              "      <td>(logistic, regression)</td>\n",
              "      <td>(distributions, probability)</td>\n",
              "    </tr>\n",
              "    <tr>\n",
              "      <th>848</th>\n",
              "      <td>in model output first i have got significant varaibles later after i tried to predict marginal effect all variables become insignificant what is problem with my step and does it affect my interpre...</td>\n",
              "      <td>(logistic, regression)</td>\n",
              "      <td>(machine learning, regression)</td>\n",
              "    </tr>\n",
              "    <tr>\n",
              "      <th>1883</th>\n",
              "      <td>i have a doubt about use of linear regression if the correlation between two variables is is there any use of applying linear regression on those variables if possible can you explain when we shou...</td>\n",
              "      <td>(r, regression)</td>\n",
              "      <td>(regression,)</td>\n",
              "    </tr>\n",
              "    <tr>\n",
              "      <th>1417</th>\n",
              "      <td>we have n realisations of five individual iid random variables x x x x and x we define another random variable s x x x x x now for a given s generated from the same process the individual componen...</td>\n",
              "      <td>(machine learning, probability)</td>\n",
              "      <td>(distributions, probability, self study)</td>\n",
              "    </tr>\n",
              "    <tr>\n",
              "      <th>1955</th>\n",
              "      <td>a quality characteristic of a product is normally distributed with mean and stdev specs on the characteristic are x a unit that falls with spec results in profit c if x profit is c if x profit is ...</td>\n",
              "      <td>(probability, self study)</td>\n",
              "      <td>(distributions, probability, self study)</td>\n",
              "    </tr>\n",
              "    <tr>\n",
              "      <th>1828</th>\n",
              "      <td>i ve implemented knn algorithm in python and now i am testing it on iris data set i have two questions the performance seems to be bad if i run the program times and then calculate the average acc...</td>\n",
              "      <td>(classification, machine learning)</td>\n",
              "      <td>(classification, machine learning, r)</td>\n",
              "    </tr>\n",
              "  </tbody>\n",
              "</table>\n",
              "</div>\n",
              "    <div class=\"colab-df-buttons\">\n",
              "\n",
              "  <div class=\"colab-df-container\">\n",
              "    <button class=\"colab-df-convert\" onclick=\"convertToInteractive('df-31f4025c-2941-47e7-a28f-064da9e07aba')\"\n",
              "            title=\"Convert this dataframe to an interactive table.\"\n",
              "            style=\"display:none;\">\n",
              "\n",
              "  <svg xmlns=\"http://www.w3.org/2000/svg\" height=\"24px\" viewBox=\"0 -960 960 960\">\n",
              "    <path d=\"M120-120v-720h720v720H120Zm60-500h600v-160H180v160Zm220 220h160v-160H400v160Zm0 220h160v-160H400v160ZM180-400h160v-160H180v160Zm440 0h160v-160H620v160ZM180-180h160v-160H180v160Zm440 0h160v-160H620v160Z\"/>\n",
              "  </svg>\n",
              "    </button>\n",
              "\n",
              "  <style>\n",
              "    .colab-df-container {\n",
              "      display:flex;\n",
              "      gap: 12px;\n",
              "    }\n",
              "\n",
              "    .colab-df-convert {\n",
              "      background-color: #E8F0FE;\n",
              "      border: none;\n",
              "      border-radius: 50%;\n",
              "      cursor: pointer;\n",
              "      display: none;\n",
              "      fill: #1967D2;\n",
              "      height: 32px;\n",
              "      padding: 0 0 0 0;\n",
              "      width: 32px;\n",
              "    }\n",
              "\n",
              "    .colab-df-convert:hover {\n",
              "      background-color: #E2EBFA;\n",
              "      box-shadow: 0px 1px 2px rgba(60, 64, 67, 0.3), 0px 1px 3px 1px rgba(60, 64, 67, 0.15);\n",
              "      fill: #174EA6;\n",
              "    }\n",
              "\n",
              "    .colab-df-buttons div {\n",
              "      margin-bottom: 4px;\n",
              "    }\n",
              "\n",
              "    [theme=dark] .colab-df-convert {\n",
              "      background-color: #3B4455;\n",
              "      fill: #D2E3FC;\n",
              "    }\n",
              "\n",
              "    [theme=dark] .colab-df-convert:hover {\n",
              "      background-color: #434B5C;\n",
              "      box-shadow: 0px 1px 3px 1px rgba(0, 0, 0, 0.15);\n",
              "      filter: drop-shadow(0px 1px 2px rgba(0, 0, 0, 0.3));\n",
              "      fill: #FFFFFF;\n",
              "    }\n",
              "  </style>\n",
              "\n",
              "    <script>\n",
              "      const buttonEl =\n",
              "        document.querySelector('#df-31f4025c-2941-47e7-a28f-064da9e07aba button.colab-df-convert');\n",
              "      buttonEl.style.display =\n",
              "        google.colab.kernel.accessAllowed ? 'block' : 'none';\n",
              "\n",
              "      async function convertToInteractive(key) {\n",
              "        const element = document.querySelector('#df-31f4025c-2941-47e7-a28f-064da9e07aba');\n",
              "        const dataTable =\n",
              "          await google.colab.kernel.invokeFunction('convertToInteractive',\n",
              "                                                    [key], {});\n",
              "        if (!dataTable) return;\n",
              "\n",
              "        const docLinkHtml = 'Like what you see? Visit the ' +\n",
              "          '<a target=\"_blank\" href=https://colab.research.google.com/notebooks/data_table.ipynb>data table notebook</a>'\n",
              "          + ' to learn more about interactive tables.';\n",
              "        element.innerHTML = '';\n",
              "        dataTable['output_type'] = 'display_data';\n",
              "        await google.colab.output.renderOutput(dataTable, element);\n",
              "        const docLink = document.createElement('div');\n",
              "        docLink.innerHTML = docLinkHtml;\n",
              "        element.appendChild(docLink);\n",
              "      }\n",
              "    </script>\n",
              "  </div>\n",
              "\n",
              "\n",
              "    <div id=\"df-f9520d9d-c3be-402d-b951-2774cf907014\">\n",
              "      <button class=\"colab-df-quickchart\" onclick=\"quickchart('df-f9520d9d-c3be-402d-b951-2774cf907014')\"\n",
              "                title=\"Suggest charts\"\n",
              "                style=\"display:none;\">\n",
              "\n",
              "<svg xmlns=\"http://www.w3.org/2000/svg\" height=\"24px\"viewBox=\"0 0 24 24\"\n",
              "     width=\"24px\">\n",
              "    <g>\n",
              "        <path d=\"M19 3H5c-1.1 0-2 .9-2 2v14c0 1.1.9 2 2 2h14c1.1 0 2-.9 2-2V5c0-1.1-.9-2-2-2zM9 17H7v-7h2v7zm4 0h-2V7h2v10zm4 0h-2v-4h2v4z\"/>\n",
              "    </g>\n",
              "</svg>\n",
              "      </button>\n",
              "\n",
              "<style>\n",
              "  .colab-df-quickchart {\n",
              "      --bg-color: #E8F0FE;\n",
              "      --fill-color: #1967D2;\n",
              "      --hover-bg-color: #E2EBFA;\n",
              "      --hover-fill-color: #174EA6;\n",
              "      --disabled-fill-color: #AAA;\n",
              "      --disabled-bg-color: #DDD;\n",
              "  }\n",
              "\n",
              "  [theme=dark] .colab-df-quickchart {\n",
              "      --bg-color: #3B4455;\n",
              "      --fill-color: #D2E3FC;\n",
              "      --hover-bg-color: #434B5C;\n",
              "      --hover-fill-color: #FFFFFF;\n",
              "      --disabled-bg-color: #3B4455;\n",
              "      --disabled-fill-color: #666;\n",
              "  }\n",
              "\n",
              "  .colab-df-quickchart {\n",
              "    background-color: var(--bg-color);\n",
              "    border: none;\n",
              "    border-radius: 50%;\n",
              "    cursor: pointer;\n",
              "    display: none;\n",
              "    fill: var(--fill-color);\n",
              "    height: 32px;\n",
              "    padding: 0;\n",
              "    width: 32px;\n",
              "  }\n",
              "\n",
              "  .colab-df-quickchart:hover {\n",
              "    background-color: var(--hover-bg-color);\n",
              "    box-shadow: 0 1px 2px rgba(60, 64, 67, 0.3), 0 1px 3px 1px rgba(60, 64, 67, 0.15);\n",
              "    fill: var(--button-hover-fill-color);\n",
              "  }\n",
              "\n",
              "  .colab-df-quickchart-complete:disabled,\n",
              "  .colab-df-quickchart-complete:disabled:hover {\n",
              "    background-color: var(--disabled-bg-color);\n",
              "    fill: var(--disabled-fill-color);\n",
              "    box-shadow: none;\n",
              "  }\n",
              "\n",
              "  .colab-df-spinner {\n",
              "    border: 2px solid var(--fill-color);\n",
              "    border-color: transparent;\n",
              "    border-bottom-color: var(--fill-color);\n",
              "    animation:\n",
              "      spin 1s steps(1) infinite;\n",
              "  }\n",
              "\n",
              "  @keyframes spin {\n",
              "    0% {\n",
              "      border-color: transparent;\n",
              "      border-bottom-color: var(--fill-color);\n",
              "      border-left-color: var(--fill-color);\n",
              "    }\n",
              "    20% {\n",
              "      border-color: transparent;\n",
              "      border-left-color: var(--fill-color);\n",
              "      border-top-color: var(--fill-color);\n",
              "    }\n",
              "    30% {\n",
              "      border-color: transparent;\n",
              "      border-left-color: var(--fill-color);\n",
              "      border-top-color: var(--fill-color);\n",
              "      border-right-color: var(--fill-color);\n",
              "    }\n",
              "    40% {\n",
              "      border-color: transparent;\n",
              "      border-right-color: var(--fill-color);\n",
              "      border-top-color: var(--fill-color);\n",
              "    }\n",
              "    60% {\n",
              "      border-color: transparent;\n",
              "      border-right-color: var(--fill-color);\n",
              "    }\n",
              "    80% {\n",
              "      border-color: transparent;\n",
              "      border-right-color: var(--fill-color);\n",
              "      border-bottom-color: var(--fill-color);\n",
              "    }\n",
              "    90% {\n",
              "      border-color: transparent;\n",
              "      border-bottom-color: var(--fill-color);\n",
              "    }\n",
              "  }\n",
              "</style>\n",
              "\n",
              "      <script>\n",
              "        async function quickchart(key) {\n",
              "          const quickchartButtonEl =\n",
              "            document.querySelector('#' + key + ' button');\n",
              "          quickchartButtonEl.disabled = true;  // To prevent multiple clicks.\n",
              "          quickchartButtonEl.classList.add('colab-df-spinner');\n",
              "          try {\n",
              "            const charts = await google.colab.kernel.invokeFunction(\n",
              "                'suggestCharts', [key], {});\n",
              "          } catch (error) {\n",
              "            console.error('Error during call to suggestCharts:', error);\n",
              "          }\n",
              "          quickchartButtonEl.classList.remove('colab-df-spinner');\n",
              "          quickchartButtonEl.classList.add('colab-df-quickchart-complete');\n",
              "        }\n",
              "        (() => {\n",
              "          let quickchartButtonEl =\n",
              "            document.querySelector('#df-f9520d9d-c3be-402d-b951-2774cf907014 button');\n",
              "          quickchartButtonEl.style.display =\n",
              "            google.colab.kernel.accessAllowed ? 'block' : 'none';\n",
              "        })();\n",
              "      </script>\n",
              "    </div>\n",
              "\n",
              "    </div>\n",
              "  </div>\n"
            ],
            "application/vnd.google.colaboratory.intrinsic+json": {
              "type": "dataframe",
              "summary": "{\n  \"name\": \"df\",\n  \"rows\": 10,\n  \"fields\": [\n    {\n      \"column\": \"comment\",\n      \"properties\": {\n        \"dtype\": \"string\",\n        \"num_unique_values\": 10,\n        \"samples\": [\n          \"a quality characteristic of a product is normally distributed with mean and stdev specs on the characteristic are x a unit that falls with spec results in profit c if x profit is c if x profit is c what is the value of that maximizes expected profit i guess the idea is to have product within spec as much of the time as possible not really sure even where to begin on this the value of c and c are not given either\",\n          \"i have data that includes clicks spend signups and date for week i turn off advertising spend to see what clicks and signups are the next week i turn advertising back on to see what the new clicks or signups are given this sets of data how can i run regression analysis to see how impactful advertising is should i run a regression analysis on y signups week signups week and x spend week spend week thanks j\",\n          \"in model output first i have got significant varaibles later after i tried to predict marginal effect all variables become insignificant what is problem with my step and does it affect my interpretations i really confused right now i need cooperation\"\n        ],\n        \"semantic_type\": \"\",\n        \"description\": \"\"\n      }\n    },\n    {\n      \"column\": \"actual\",\n      \"properties\": {\n        \"dtype\": \"string\",\n        \"num_unique_values\": 7,\n        \"samples\": [\n          [\n            \"r\",\n            \"time series\"\n          ],\n          [\n            \"r\",\n            \"regression\",\n            \"time series\"\n          ],\n          [\n            \"probability\",\n            \"self study\"\n          ]\n        ],\n        \"semantic_type\": \"\",\n        \"description\": \"\"\n      }\n    },\n    {\n      \"column\": \"predictions\",\n      \"properties\": {\n        \"dtype\": \"string\",\n        \"num_unique_values\": 8,\n        \"samples\": [\n          [\n            \"regression\"\n          ],\n          [\n            \"machine learning\",\n            \"regression\"\n          ],\n          [\n            \"r\",\n            \"time series\"\n          ]\n        ],\n        \"semantic_type\": \"\",\n        \"description\": \"\"\n      }\n    }\n  ]\n}"
            }
          },
          "metadata": {},
          "execution_count": 112
        }
      ]
    },
    {
      "cell_type": "markdown",
      "source": [],
      "metadata": {
        "id": "XI8z-ep7QhGW"
      }
    },
    {
      "cell_type": "code",
      "source": [
        "def predict_tag(comment):\n",
        "  text=[]\n",
        "\n",
        "  #preprocess\n",
        "  text = [cleaner(comment)]\n",
        "\n",
        "  #convert to integer sequences\n",
        "  seq = x_tokenizer.texts_to_sequences(text)\n",
        "\n",
        "  #pad the sequence\n",
        "  pad_seq = pad_sequences(seq,  padding='post', maxlen=max_len)\n",
        "\n",
        "  #make predictions\n",
        "  pred_prob = model.predict(pad_seq)\n",
        "  classes = classify(pred_prob,opt)[0]\n",
        "\n",
        "  classes = np.array([classes])\n",
        "  classes = mlb.inverse_transform(classes)\n",
        "  return classes"
      ],
      "metadata": {
        "id": "-x9lEyFdFP0o"
      },
      "execution_count": 113,
      "outputs": []
    },
    {
      "cell_type": "code",
      "source": [
        "comment = \"I just finished a great course on regression and probability.\"\n",
        "\n",
        "print(\"Comment:\",comment)\n",
        "print(\"Predicted Tags:\",predict_tag(comment))"
      ],
      "metadata": {
        "colab": {
          "base_uri": "https://localhost:8080/"
        },
        "id": "7uAAVIDWRHE6",
        "outputId": "74b1bf7a-3634-4215-f319-760829df9abb"
      },
      "execution_count": 116,
      "outputs": [
        {
          "output_type": "stream",
          "name": "stdout",
          "text": [
            "Comment: I just finished a great course on regression and probability.\n",
            "\u001b[1m1/1\u001b[0m \u001b[32m━━━━━━━━━━━━━━━━━━━━\u001b[0m\u001b[37m\u001b[0m \u001b[1m0s\u001b[0m 69ms/step\n",
            "Predicted Tags: [('distributions', 'probability')]\n"
          ]
        }
      ]
    },
    {
      "cell_type": "code",
      "source": [],
      "metadata": {
        "id": "L6kBzwIsBiMr"
      },
      "execution_count": null,
      "outputs": []
    }
  ]
}